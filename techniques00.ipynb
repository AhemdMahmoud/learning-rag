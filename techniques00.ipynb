{
  "nbformat": 4,
  "nbformat_minor": 0,
  "metadata": {
    "colab": {
      "provenance": []
    },
    "kernelspec": {
      "name": "python3",
      "display_name": "Python 3"
    },
    "language_info": {
      "name": "python"
    }
  },
  "cells": [
    {
      "cell_type": "code",
      "execution_count": 1,
      "metadata": {
        "id": "GoChcqcLZQdg"
      },
      "outputs": [],
      "source": [
        "!pip install -qU langchain-mistralai"
      ]
    },
    {
      "cell_type": "code",
      "source": [
        "import os\n",
        "os.environ[\"MISTRAL_API_KEY\"]= \"U5QUXeaOzkeyBeQFkSKX23Qh5AQGfnni\""
      ],
      "metadata": {
        "id": "ynEyflUJZcUA"
      },
      "execution_count": 2,
      "outputs": []
    },
    {
      "cell_type": "code",
      "source": [
        "from langchain_mistralai.chat_models import ChatMistralAI\n",
        "from langchain_mistralai import MistralAIEmbeddings\n",
        "import numpy as np"
      ],
      "metadata": {
        "id": "X9w8oHgTZasB"
      },
      "execution_count": 3,
      "outputs": []
    },
    {
      "cell_type": "code",
      "source": [
        "embedding_model = MistralAIEmbeddings(model=\"mistral-embed\")\n",
        "llm = ChatMistralAI(model= \"mistral-large-latest\", temperature=0.9)"
      ],
      "metadata": {
        "colab": {
          "base_uri": "https://localhost:8080/"
        },
        "collapsed": true,
        "id": "Y3bCiB8nZeHC",
        "outputId": "15e232ab-ac7b-4fce-fc6b-b0df3b0462e3"
      },
      "execution_count": 4,
      "outputs": [
        {
          "output_type": "stream",
          "name": "stderr",
          "text": [
            "/usr/local/lib/python3.11/dist-packages/huggingface_hub/utils/_auth.py:94: UserWarning: \n",
            "The secret `HF_TOKEN` does not exist in your Colab secrets.\n",
            "To authenticate with the Hugging Face Hub, create a token in your settings tab (https://huggingface.co/settings/tokens), set it as secret in your Google Colab and restart your session.\n",
            "You will be able to reuse this secret in all of your notebooks.\n",
            "Please note that authentication is recommended but still optional to access public models or datasets.\n",
            "  warnings.warn(\n",
            "/usr/local/lib/python3.11/dist-packages/langchain_mistralai/embeddings.py:181: UserWarning: Could not download mistral tokenizer from Huggingface for calculating batch sizes. Set a Huggingface token via the HF_TOKEN environment variable to download the real tokenizer. Falling back to a dummy tokenizer that uses `len()`.\n",
            "  warnings.warn(\n"
          ]
        }
      ]
    },
    {
      "cell_type": "code",
      "source": [
        "prompt = \"What is the capital of {country}?\""
      ],
      "metadata": {
        "id": "IWfKqjDjZeEq"
      },
      "execution_count": 5,
      "outputs": []
    },
    {
      "cell_type": "code",
      "source": [
        "from langchain.prompts import PromptTemplate\n",
        "prompt_template = PromptTemplate(\n",
        "  input_variables=[\"country\"],\n",
        "  template=prompt,\n",
        ")"
      ],
      "metadata": {
        "id": "hsqwKlWdZeBz"
      },
      "execution_count": 6,
      "outputs": []
    },
    {
      "cell_type": "code",
      "source": [
        "prompt_template"
      ],
      "metadata": {
        "colab": {
          "base_uri": "https://localhost:8080/"
        },
        "id": "GqRqhxumZ0jb",
        "outputId": "c3ecffe5-a552-48c2-8faf-e8d6ad324d87"
      },
      "execution_count": 7,
      "outputs": [
        {
          "output_type": "execute_result",
          "data": {
            "text/plain": [
              "PromptTemplate(input_variables=['country'], input_types={}, partial_variables={}, template='What is the capital of {country}?')"
            ]
          },
          "metadata": {},
          "execution_count": 7
        }
      ]
    },
    {
      "cell_type": "code",
      "source": [
        "prompt_template.format(country=\"India\")"
      ],
      "metadata": {
        "colab": {
          "base_uri": "https://localhost:8080/",
          "height": 35
        },
        "id": "cUFDZ8oGZ2wA",
        "outputId": "0a62192d-f9c8-4046-dedb-b18fbf4399ba"
      },
      "execution_count": 8,
      "outputs": [
        {
          "output_type": "execute_result",
          "data": {
            "text/plain": [
              "'What is the capital of India?'"
            ],
            "application/vnd.google.colaboratory.intrinsic+json": {
              "type": "string"
            }
          },
          "metadata": {},
          "execution_count": 8
        }
      ]
    },
    {
      "cell_type": "code",
      "source": [
        "from langchain.schema import HumanMessage, AIMessage, SystemMessage"
      ],
      "metadata": {
        "id": "mQxx-q2yZ5mZ"
      },
      "execution_count": 9,
      "outputs": []
    },
    {
      "cell_type": "code",
      "source": [
        "base_conversation = [\n",
        "    SystemMessage(content=\"You are a helpful assistant.\"),\n",
        "    HumanMessage(content=\"What is the meaning of life?\")\n",
        "]\n"
      ],
      "metadata": {
        "id": "zJVHvFEtxwfK"
      },
      "execution_count": 10,
      "outputs": []
    },
    {
      "cell_type": "code",
      "source": [
        "print(llm(base_conversation))\n"
      ],
      "metadata": {
        "colab": {
          "base_uri": "https://localhost:8080/"
        },
        "id": "t6LNj_SyvwQw",
        "outputId": "abc4792e-d7a7-48d3-8eb5-d7b6f0a585c2"
      },
      "execution_count": 11,
      "outputs": [
        {
          "output_type": "stream",
          "name": "stderr",
          "text": [
            "<ipython-input-11-113f6ffb727a>:1: LangChainDeprecationWarning: The method `BaseChatModel.__call__` was deprecated in langchain-core 0.1.7 and will be removed in 1.0. Use :meth:`~invoke` instead.\n",
            "  print(llm(base_conversation))\n"
          ]
        },
        {
          "output_type": "stream",
          "name": "stdout",
          "text": [
            "content='The meaning of life is a philosophical question that has been debated for centuries, and it doesn\\'t have one definitive answer as it can vary greatly depending on personal beliefs, religious or spiritual views, and philosophical persuasions. Here are a few perspectives:\\n\\n1. **Existentialism**: Existentialists like Jean-Paul Sartre argued that life has no inherent meaning, and it\\'s up to each individual to create their own purpose.\\n\\n2. **Religious and Spiritual Views**: Many religions offer their own interpretations. For example:\\n   - In Christianity, the purpose of life might be seen as loving and serving God.\\n   - In Buddhism, the purpose could be achieving enlightenment.\\n\\n3. **Hedonism**: Hedonists believe the purpose of life is to seek pleasure and happiness.\\n\\n4. **Altruism**: Some people find meaning in life through helping others and making the world a better place.\\n\\n5. **Personal Growth**: Many people find purpose in learning, growing, and becoming the best version of themselves.\\n\\n6. **Biological Perspective**: From a scientific or biological standpoint, one might say the meaning of life is to survive and reproduce.\\n\\n7. **The Answer from \"The Hitchhiker\\'s Guide to the Galaxy\"**: In this book by Douglas Adams, a group of hyper-intelligent pan-dimensional beings build a supercomputer named Deep Thought to calculate the answer to the Ultimate Question of Life, The Universe, and Everything, to which Deep Thought famously replies \"42,\" though it\\'s important to note that this is intended as a humorous and arbitrary answer.\\n\\nUltimately, the meaning of life may be a deeply personal and subjective concept. It could be helpful to reflect on what gives your life purpose and what you value most.' additional_kwargs={} response_metadata={'token_usage': {'prompt_tokens': 18, 'total_tokens': 428, 'completion_tokens': 410}, 'model_name': 'mistral-large-latest', 'model': 'mistral-large-latest', 'finish_reason': 'stop'} id='run--774ce865-7d4d-4e1b-8eea-e1f417a9c19c-0' usage_metadata={'input_tokens': 18, 'output_tokens': 410, 'total_tokens': 428}\n"
          ]
        }
      ]
    },
    {
      "cell_type": "code",
      "source": [
        "base_conversation = [\n",
        "    SystemMessage(content=\"You are a chief, you want to ask me some things to find out my favorite Asian dish\"), # system message refer to the context or background for the model\n",
        "]\n",
        "\n",
        "ai_response = None\n",
        "\n",
        "for i in range(3):\n",
        "\n",
        "    ai_response = llm( base_conversation )\n",
        "\n",
        "    print(\"AI: \", ai_response.content)\n",
        "\n",
        "    ## append the ai_response\n",
        "    base_conversation.append( ai_response )\n",
        "\n",
        "    user_response = HumanMessage(content=input(\"Your Answer:\"))\n",
        "\n",
        "    ## append the human_response\n",
        "    base_conversation.append(user_response)\n",
        "\n",
        "human_final_message = HumanMessage(content=\"And now. Which plate do you think I will like. Just type the plate name\")\n",
        "base_conversation.append(human_final_message)\n",
        "\n",
        "final_ai_response = llm(base_conversation)\n",
        "print( final_ai_response )"
      ],
      "metadata": {
        "colab": {
          "base_uri": "https://localhost:8080/"
        },
        "id": "KqMmkNGOy1Cf",
        "outputId": "6f0d6000-6709-497b-fb0f-fdce6895dafd"
      },
      "execution_count": 12,
      "outputs": [
        {
          "output_type": "stream",
          "name": "stdout",
          "text": [
            "AI:  Alright, let's play a little game to help me guess your favorite Asian dish. Please answer the following questions with the first thing that comes to your mind:\n",
            "\n",
            "1. What is your favorite protein (e.g., chicken, beef, pork, tofu, etc.)?\n",
            "2. Do you prefer spicy, sweet, savory, or sour flavors?\n",
            "3. What is your favorite type of noodle or rice?\n",
            "4. Do you prefer dishes that are dry, have a bit of sauce, or are soupy?\n",
            "5. Name the first Asian country that comes to your mind.\n",
            "6. What is your favorite vegetable?\n",
            "7. Do you prefer street food, home-cooked meals, or restaurant-style dishes?\n",
            "\n",
            "With your answers, I'll try my best to guess your favorite Asian dish!\n",
            "Your Answer:df\n",
            "AI:  It looks like you're ready to go! Let's start with the questions:\n",
            "\n",
            "1. What is your favorite protein (e.g., chicken, beef, pork, tofu, etc.)?\n",
            "2. Do you prefer spicy, sweet, savory, or sour flavors?\n",
            "3. What is your favorite type of noodle or rice?\n",
            "4. Do you prefer dishes that are dry, have a bit of sauce, or are soupy?\n",
            "5. Name the first Asian country that comes to your mind.\n",
            "6. What is your favorite vegetable?\n",
            "7. Do you prefer street food, home-cooked meals, or restaurant-style dishes?\n",
            "\n",
            "Let's go through these one by one!\n",
            "Your Answer:dfs\n",
            "AI:  Let's take it step by step. Please answer the first question:\n",
            "\n",
            "1. What is your favorite protein (e.g., chicken, beef, pork, tofu, etc.)?\n",
            "Your Answer:sd\n",
            "content=\"Based on your responses, it's a bit challenging to pinpoint a specific dish since the answers were quite brief. However, I'll take a guess based on popular Asian dishes that are widely enjoyed.\\n\\nGiven the limited information, I'll guess:\\n\\n**Pad Thai**\\n\\nPad Thai is a popular Thai street food made with rice noodles, shrimp (or other proteins), tofu, eggs, and flavored with tamarind pulp, fish sauce, garlic or shallots, red chili pepper and palm sugar, and served with lime wedges and chopped roast peanuts.\\n\\nIf this isn't your favorite, feel free to provide more details, and I'll be happy to make another guess!\" additional_kwargs={} response_metadata={'token_usage': {'prompt_tokens': 435, 'total_tokens': 600, 'completion_tokens': 165}, 'model_name': 'mistral-large-latest', 'model': 'mistral-large-latest', 'finish_reason': 'stop'} id='run--74c69ba5-1c11-49cb-8048-8391158bcf38-0' usage_metadata={'input_tokens': 435, 'output_tokens': 165, 'total_tokens': 600}\n"
          ]
        }
      ]
    },
    {
      "cell_type": "code",
      "source": [
        "base_conversation"
      ],
      "metadata": {
        "colab": {
          "base_uri": "https://localhost:8080/"
        },
        "id": "Ofaoh4ng2ZZj",
        "outputId": "4f699d0c-6c4d-404b-f012-c3102d1ab9da",
        "collapsed": true
      },
      "execution_count": 13,
      "outputs": [
        {
          "output_type": "execute_result",
          "data": {
            "text/plain": [
              "[SystemMessage(content='You are a chief, you want to ask me some things to find out my favorite Asian dish', additional_kwargs={}, response_metadata={}),\n",
              " AIMessage(content=\"Alright, let's play a little game to help me guess your favorite Asian dish. Please answer the following questions with the first thing that comes to your mind:\\n\\n1. What is your favorite protein (e.g., chicken, beef, pork, tofu, etc.)?\\n2. Do you prefer spicy, sweet, savory, or sour flavors?\\n3. What is your favorite type of noodle or rice?\\n4. Do you prefer dishes that are dry, have a bit of sauce, or are soupy?\\n5. Name the first Asian country that comes to your mind.\\n6. What is your favorite vegetable?\\n7. Do you prefer street food, home-cooked meals, or restaurant-style dishes?\\n\\nWith your answers, I'll try my best to guess your favorite Asian dish!\", additional_kwargs={}, response_metadata={'token_usage': {'prompt_tokens': 22, 'total_tokens': 204, 'completion_tokens': 182}, 'model_name': 'mistral-large-latest', 'model': 'mistral-large-latest', 'finish_reason': 'stop'}, id='run--b780b6ae-e1c4-4960-a0ef-13f772a8c6c4-0', usage_metadata={'input_tokens': 22, 'output_tokens': 182, 'total_tokens': 204}),\n",
              " HumanMessage(content='df', additional_kwargs={}, response_metadata={}),\n",
              " AIMessage(content=\"It looks like you're ready to go! Let's start with the questions:\\n\\n1. What is your favorite protein (e.g., chicken, beef, pork, tofu, etc.)?\\n2. Do you prefer spicy, sweet, savory, or sour flavors?\\n3. What is your favorite type of noodle or rice?\\n4. Do you prefer dishes that are dry, have a bit of sauce, or are soupy?\\n5. Name the first Asian country that comes to your mind.\\n6. What is your favorite vegetable?\\n7. Do you prefer street food, home-cooked meals, or restaurant-style dishes?\\n\\nLet's go through these one by one!\", additional_kwargs={}, response_metadata={'token_usage': {'prompt_tokens': 207, 'total_tokens': 366, 'completion_tokens': 159}, 'model_name': 'mistral-large-latest', 'model': 'mistral-large-latest', 'finish_reason': 'stop'}, id='run--232983a6-c349-4c91-aeea-b1afa05d01c9-0', usage_metadata={'input_tokens': 207, 'output_tokens': 159, 'total_tokens': 366}),\n",
              " HumanMessage(content='dfs', additional_kwargs={}, response_metadata={}),\n",
              " AIMessage(content=\"Let's take it step by step. Please answer the first question:\\n\\n1. What is your favorite protein (e.g., chicken, beef, pork, tofu, etc.)?\", additional_kwargs={}, response_metadata={'token_usage': {'prompt_tokens': 370, 'total_tokens': 413, 'completion_tokens': 43}, 'model_name': 'mistral-large-latest', 'model': 'mistral-large-latest', 'finish_reason': 'stop'}, id='run--a5eaa043-5081-4dbd-b0ca-ce15aaf51c04-0', usage_metadata={'input_tokens': 370, 'output_tokens': 43, 'total_tokens': 413}),\n",
              " HumanMessage(content='sd', additional_kwargs={}, response_metadata={}),\n",
              " HumanMessage(content='And now. Which plate do you think I will like. Just type the plate name', additional_kwargs={}, response_metadata={})]"
            ]
          },
          "metadata": {},
          "execution_count": 13
        }
      ]
    },
    {
      "cell_type": "code",
      "source": [
        "from langchain.prompts import PromptTemplate\n",
        "from langchain.schema import HumanMessage, SystemMessage, AIMessage"
      ],
      "metadata": {
        "id": "1Fi1JCoG_9gv"
      },
      "execution_count": 14,
      "outputs": []
    },
    {
      "cell_type": "code",
      "source": [
        "demo_message = \"\"\"\n",
        "Country Name: Egypt | Capital Name: Cairo\n",
        "Country Name: Saudi Arabia | Capital Name: Riyadh\n",
        "Country Name: France | Capital Name: Paris\n",
        "Country Name: China |\n",
        "\"\"\".strip()\n",
        "\n",
        "print(llm([HumanMessage(content=demo_message)]))"
      ],
      "metadata": {
        "colab": {
          "base_uri": "https://localhost:8080/"
        },
        "id": "iOlOEi8z_9cI",
        "outputId": "c3f48a49-199f-4cf8-ddb5-f79f462b12d6"
      },
      "execution_count": 15,
      "outputs": [
        {
          "output_type": "stream",
          "name": "stdout",
          "text": [
            "content=\"Based on the pattern you've provided, here is the capital for China:\\n\\nCountry Name: China | Capital Name: Beijing\\n\\n So the complete list is:\\n\\n- Country Name: Egypt | Capital Name: Cairo\\n- Country Name: Saudi Arabia | Capital Name: Riyadh\\n- Country Name: France | Capital Name: Paris\\n- Country Name: China | Capital Name: Beijing\" additional_kwargs={} response_metadata={'token_usage': {'prompt_tokens': 43, 'total_tokens': 129, 'completion_tokens': 86}, 'model_name': 'mistral-large-latest', 'model': 'mistral-large-latest', 'finish_reason': 'stop'} id='run--1999b56b-2daf-445f-b62d-435d6897fed7-0' usage_metadata={'input_tokens': 43, 'output_tokens': 86, 'total_tokens': 129}\n"
          ]
        }
      ]
    },
    {
      "cell_type": "markdown",
      "source": [
        "# Few Shot"
      ],
      "metadata": {
        "id": "91yCRnpqD9vK"
      }
    },
    {
      "cell_type": "code",
      "source": [
        "from langchain.prompts import FewShotPromptTemplate"
      ],
      "metadata": {
        "id": "9WdipdNPFBLB"
      },
      "execution_count": 16,
      "outputs": []
    },
    {
      "cell_type": "code",
      "source": [
        "demo_template = PromptTemplate(\n",
        "    template=\"Country Name: {country} | Capital Name: {capital}\",\n",
        "    input_variables=['country', 'capital']\n",
        ")\n",
        "\n",
        "examples = [\n",
        "    {\"country\": \"Egypt\", \"capital\": \"Cairo\"},\n",
        "    {\"country\": \"Saudi Arabia\", \"capital\": \"Riyadh\"},\n",
        "    {\"country\": \"France\", \"capital\": \"Paris\"},\n",
        "]\n",
        "\n",
        "prompt = FewShotPromptTemplate(\n",
        "    examples=examples,\n",
        "    example_prompt=demo_template,\n",
        "    suffix=\"Country Name: {country} |\",\n",
        "    input_variables=['country']\n",
        ")"
      ],
      "metadata": {
        "id": "qGN0cuvm_9Ww"
      },
      "execution_count": 17,
      "outputs": []
    },
    {
      "cell_type": "code",
      "source": [
        "print( llm( prompt.format(country='Germany') ) )"
      ],
      "metadata": {
        "colab": {
          "base_uri": "https://localhost:8080/",
          "height": 287
        },
        "id": "CUpRk-P0_9Tt",
        "outputId": "4e490586-6903-4c9b-ae9e-8bb4105e182c"
      },
      "execution_count": 18,
      "outputs": [
        {
          "output_type": "error",
          "ename": "AttributeError",
          "evalue": "'str' object has no attribute 'content'",
          "traceback": [
            "\u001b[0;31m---------------------------------------------------------------------------\u001b[0m",
            "\u001b[0;31mAttributeError\u001b[0m                            Traceback (most recent call last)",
            "\u001b[0;32m<ipython-input-18-fbd57db84394>\u001b[0m in \u001b[0;36m<cell line: 0>\u001b[0;34m()\u001b[0m\n\u001b[0;32m----> 1\u001b[0;31m \u001b[0mprint\u001b[0m\u001b[0;34m(\u001b[0m \u001b[0mllm\u001b[0m\u001b[0;34m(\u001b[0m \u001b[0mprompt\u001b[0m\u001b[0;34m.\u001b[0m\u001b[0mformat\u001b[0m\u001b[0;34m(\u001b[0m\u001b[0mcountry\u001b[0m\u001b[0;34m=\u001b[0m\u001b[0;34m'Germany'\u001b[0m\u001b[0;34m)\u001b[0m \u001b[0;34m)\u001b[0m \u001b[0;34m)\u001b[0m\u001b[0;34m\u001b[0m\u001b[0;34m\u001b[0m\u001b[0m\n\u001b[0m",
            "\u001b[0;32m/usr/local/lib/python3.11/dist-packages/langchain_core/_api/deprecation.py\u001b[0m in \u001b[0;36mwarning_emitting_wrapper\u001b[0;34m(*args, **kwargs)\u001b[0m\n\u001b[1;32m    189\u001b[0m                 \u001b[0mwarned\u001b[0m \u001b[0;34m=\u001b[0m \u001b[0;32mTrue\u001b[0m\u001b[0;34m\u001b[0m\u001b[0;34m\u001b[0m\u001b[0m\n\u001b[1;32m    190\u001b[0m                 \u001b[0memit_warning\u001b[0m\u001b[0;34m(\u001b[0m\u001b[0;34m)\u001b[0m\u001b[0;34m\u001b[0m\u001b[0;34m\u001b[0m\u001b[0m\n\u001b[0;32m--> 191\u001b[0;31m             \u001b[0;32mreturn\u001b[0m \u001b[0mwrapped\u001b[0m\u001b[0;34m(\u001b[0m\u001b[0;34m*\u001b[0m\u001b[0margs\u001b[0m\u001b[0;34m,\u001b[0m \u001b[0;34m**\u001b[0m\u001b[0mkwargs\u001b[0m\u001b[0;34m)\u001b[0m\u001b[0;34m\u001b[0m\u001b[0;34m\u001b[0m\u001b[0m\n\u001b[0m\u001b[1;32m    192\u001b[0m \u001b[0;34m\u001b[0m\u001b[0m\n\u001b[1;32m    193\u001b[0m         \u001b[0;32masync\u001b[0m \u001b[0;32mdef\u001b[0m \u001b[0mawarning_emitting_wrapper\u001b[0m\u001b[0;34m(\u001b[0m\u001b[0;34m*\u001b[0m\u001b[0margs\u001b[0m\u001b[0;34m:\u001b[0m \u001b[0mAny\u001b[0m\u001b[0;34m,\u001b[0m \u001b[0;34m**\u001b[0m\u001b[0mkwargs\u001b[0m\u001b[0;34m:\u001b[0m \u001b[0mAny\u001b[0m\u001b[0;34m)\u001b[0m \u001b[0;34m->\u001b[0m \u001b[0mAny\u001b[0m\u001b[0;34m:\u001b[0m\u001b[0;34m\u001b[0m\u001b[0;34m\u001b[0m\u001b[0m\n",
            "\u001b[0;32m/usr/local/lib/python3.11/dist-packages/langchain_core/language_models/chat_models.py\u001b[0m in \u001b[0;36m__call__\u001b[0;34m(self, messages, stop, callbacks, **kwargs)\u001b[0m\n\u001b[1;32m   1198\u001b[0m             \u001b[0mThe\u001b[0m \u001b[0mmodel\u001b[0m \u001b[0moutput\u001b[0m \u001b[0mmessage\u001b[0m\u001b[0;34m.\u001b[0m\u001b[0;34m\u001b[0m\u001b[0;34m\u001b[0m\u001b[0m\n\u001b[1;32m   1199\u001b[0m         \"\"\"\n\u001b[0;32m-> 1200\u001b[0;31m         generation = self.generate(\n\u001b[0m\u001b[1;32m   1201\u001b[0m             \u001b[0;34m[\u001b[0m\u001b[0mmessages\u001b[0m\u001b[0;34m]\u001b[0m\u001b[0;34m,\u001b[0m \u001b[0mstop\u001b[0m\u001b[0;34m=\u001b[0m\u001b[0mstop\u001b[0m\u001b[0;34m,\u001b[0m \u001b[0mcallbacks\u001b[0m\u001b[0;34m=\u001b[0m\u001b[0mcallbacks\u001b[0m\u001b[0;34m,\u001b[0m \u001b[0;34m**\u001b[0m\u001b[0mkwargs\u001b[0m\u001b[0;34m\u001b[0m\u001b[0;34m\u001b[0m\u001b[0m\n\u001b[1;32m   1202\u001b[0m         ).generations[0][0]\n",
            "\u001b[0;32m/usr/local/lib/python3.11/dist-packages/langchain_core/language_models/chat_models.py\u001b[0m in \u001b[0;36mgenerate\u001b[0;34m(self, messages, stop, callbacks, tags, metadata, run_name, run_id, **kwargs)\u001b[0m\n\u001b[1;32m    754\u001b[0m             \u001b[0mself\u001b[0m\u001b[0;34m.\u001b[0m\u001b[0mmetadata\u001b[0m\u001b[0;34m,\u001b[0m\u001b[0;34m\u001b[0m\u001b[0;34m\u001b[0m\u001b[0m\n\u001b[1;32m    755\u001b[0m         )\n\u001b[0;32m--> 756\u001b[0;31m         messages_to_trace = [\n\u001b[0m\u001b[1;32m    757\u001b[0m             \u001b[0m_format_for_tracing\u001b[0m\u001b[0;34m(\u001b[0m\u001b[0mmessage_list\u001b[0m\u001b[0;34m)\u001b[0m \u001b[0;32mfor\u001b[0m \u001b[0mmessage_list\u001b[0m \u001b[0;32min\u001b[0m \u001b[0mmessages\u001b[0m\u001b[0;34m\u001b[0m\u001b[0;34m\u001b[0m\u001b[0m\n\u001b[1;32m    758\u001b[0m         ]\n",
            "\u001b[0;32m/usr/local/lib/python3.11/dist-packages/langchain_core/language_models/chat_models.py\u001b[0m in \u001b[0;36m<listcomp>\u001b[0;34m(.0)\u001b[0m\n\u001b[1;32m    755\u001b[0m         )\n\u001b[1;32m    756\u001b[0m         messages_to_trace = [\n\u001b[0;32m--> 757\u001b[0;31m             \u001b[0m_format_for_tracing\u001b[0m\u001b[0;34m(\u001b[0m\u001b[0mmessage_list\u001b[0m\u001b[0;34m)\u001b[0m \u001b[0;32mfor\u001b[0m \u001b[0mmessage_list\u001b[0m \u001b[0;32min\u001b[0m \u001b[0mmessages\u001b[0m\u001b[0;34m\u001b[0m\u001b[0;34m\u001b[0m\u001b[0m\n\u001b[0m\u001b[1;32m    758\u001b[0m         ]\n\u001b[1;32m    759\u001b[0m         run_managers = callback_manager.on_chat_model_start(\n",
            "\u001b[0;32m/usr/local/lib/python3.11/dist-packages/langchain_core/language_models/chat_models.py\u001b[0m in \u001b[0;36m_format_for_tracing\u001b[0;34m(messages)\u001b[0m\n\u001b[1;32m    124\u001b[0m     \u001b[0;32mfor\u001b[0m \u001b[0mmessage\u001b[0m \u001b[0;32min\u001b[0m \u001b[0mmessages\u001b[0m\u001b[0;34m:\u001b[0m\u001b[0;34m\u001b[0m\u001b[0;34m\u001b[0m\u001b[0m\n\u001b[1;32m    125\u001b[0m         \u001b[0mmessage_to_trace\u001b[0m \u001b[0;34m=\u001b[0m \u001b[0mmessage\u001b[0m\u001b[0;34m\u001b[0m\u001b[0;34m\u001b[0m\u001b[0m\n\u001b[0;32m--> 126\u001b[0;31m         \u001b[0;32mif\u001b[0m \u001b[0misinstance\u001b[0m\u001b[0;34m(\u001b[0m\u001b[0mmessage\u001b[0m\u001b[0;34m.\u001b[0m\u001b[0mcontent\u001b[0m\u001b[0;34m,\u001b[0m \u001b[0mlist\u001b[0m\u001b[0;34m)\u001b[0m\u001b[0;34m:\u001b[0m\u001b[0;34m\u001b[0m\u001b[0;34m\u001b[0m\u001b[0m\n\u001b[0m\u001b[1;32m    127\u001b[0m             \u001b[0;32mfor\u001b[0m \u001b[0midx\u001b[0m\u001b[0;34m,\u001b[0m \u001b[0mblock\u001b[0m \u001b[0;32min\u001b[0m \u001b[0menumerate\u001b[0m\u001b[0;34m(\u001b[0m\u001b[0mmessage\u001b[0m\u001b[0;34m.\u001b[0m\u001b[0mcontent\u001b[0m\u001b[0;34m)\u001b[0m\u001b[0;34m:\u001b[0m\u001b[0;34m\u001b[0m\u001b[0;34m\u001b[0m\u001b[0m\n\u001b[1;32m    128\u001b[0m                 if (\n",
            "\u001b[0;31mAttributeError\u001b[0m: 'str' object has no attribute 'content'"
          ]
        }
      ]
    },
    {
      "cell_type": "code",
      "source": [
        "riddle_1 = \"\"\"\n",
        "I have five oranges, and the sum of what my sister and brother have is three times what I have plus thirty-five\n",
        "\"\"\".strip()"
      ],
      "metadata": {
        "id": "HB-IIgS0F4go"
      },
      "execution_count": 19,
      "outputs": []
    },
    {
      "cell_type": "code",
      "source": [
        "print(llm([HumanMessage(content=riddle_1)]))"
      ],
      "metadata": {
        "colab": {
          "base_uri": "https://localhost:8080/"
        },
        "id": "B9GQRWSYP7zf",
        "outputId": "50d49f48-b66e-4c58-ef98-78d6b24e7027"
      },
      "execution_count": 20,
      "outputs": [
        {
          "output_type": "stream",
          "name": "stdout",
          "text": [
            "content=\"Let's denote the number of oranges you have as \\\\( O \\\\). According to the information provided:\\n\\n\\\\[ O = 5 \\\\]\\n\\nNow, let's denote the number of oranges your sister has as \\\\( S \\\\) and the number of oranges your brother has as \\\\( B \\\\). The sum of the oranges your sister and brother have is \\\\( S + B \\\\).\\n\\nAccording to the problem statement, the sum of the oranges your sister and brother have is three times what you have plus thirty-five:\\n\\n\\\\[ S + B = 3O + 35 \\\\]\\n\\nSubstituting \\\\( O = 5 \\\\) into the equation:\\n\\n\\\\[ S + B = 3 \\\\times 5 + 35 \\\\]\\n\\\\[ S + B = 15 + 35 \\\\]\\n\\\\[ S + B = 50 \\\\]\\n\\nSo, the sum of the oranges your sister and brother have is 50.\" additional_kwargs={} response_metadata={'token_usage': {'prompt_tokens': 29, 'total_tokens': 238, 'completion_tokens': 209}, 'model_name': 'mistral-large-latest', 'model': 'mistral-large-latest', 'finish_reason': 'stop'} id='run--b0d7a04f-8813-4d12-80d9-306703f2ce98-0' usage_metadata={'input_tokens': 29, 'output_tokens': 209, 'total_tokens': 238}\n"
          ]
        }
      ]
    },
    {
      "cell_type": "code",
      "source": [
        "riddle_2 = \"\"\"\n",
        "Total with what my family is 50 oranges. If we subtract one-fifth of the number from them, and add ten more oranges, how many oranges will there be in the end?\n",
        "\"\"\".strip()\n",
        "\n"
      ],
      "metadata": {
        "id": "Wa42mj5GQKBL"
      },
      "execution_count": 21,
      "outputs": []
    },
    {
      "cell_type": "code",
      "source": [
        "print(llm([HumanMessage(content=riddle_2)]))"
      ],
      "metadata": {
        "colab": {
          "base_uri": "https://localhost:8080/"
        },
        "id": "t1Hdw4DVQWGg",
        "outputId": "58511665-35e8-4099-c1d5-1100b00f0cc8"
      },
      "execution_count": 22,
      "outputs": [
        {
          "output_type": "stream",
          "name": "stdout",
          "text": [
            "content=\"Let's break down the problem step by step:\\n\\n1. You start with 50 oranges.\\n2. You subtract one-fifth of the number of oranges from the total. One-fifth of 50 is 50/5 = 10 oranges.\\n3. Subtracting this one-fifth (10 oranges) from the original 50 oranges gives you 50 - 10 = 40 oranges.\\n4. Then you add ten more oranges to the remaining 40 oranges, which gives you 40 + 10 = 50 oranges.\\n\\nSo, in the end, you will have 50 oranges.\" additional_kwargs={} response_metadata={'token_usage': {'prompt_tokens': 47, 'total_tokens': 207, 'completion_tokens': 160}, 'model_name': 'mistral-large-latest', 'model': 'mistral-large-latest', 'finish_reason': 'stop'} id='run--cecca8a8-36f2-4e05-8109-e3b67c92ceca-0' usage_metadata={'input_tokens': 47, 'output_tokens': 160, 'total_tokens': 207}\n"
          ]
        }
      ]
    },
    {
      "cell_type": "code",
      "source": [
        "riddle_3 = \"\"\"\n",
        "When I was seven, my sister was twice my age. Now I am seventy years old, how old can my sister be?\n",
        "\"\"\".strip()\n",
        "\n",
        "print(llm([HumanMessage(content=riddle_3)]))"
      ],
      "metadata": {
        "colab": {
          "base_uri": "https://localhost:8080/"
        },
        "id": "gG4zHeR1QZDE",
        "outputId": "cdd38d6e-9ae4-4ce9-c47f-58d79cf478e9"
      },
      "execution_count": 23,
      "outputs": [
        {
          "output_type": "stream",
          "name": "stdout",
          "text": [
            "content='When you were seven, your sister was twice your age, which means she was 14 years old at that time.\\n\\nThe difference in age between you and your sister is 14 - 7 = 7 years.\\n\\nNow that you are 70 years old, your sister, being 7 years older than you, would be:\\n\\n70 + 7 = 77 years old.\\n\\nSo, your sister can be 77 years old.' additional_kwargs={} response_metadata={'token_usage': {'prompt_tokens': 29, 'total_tokens': 132, 'completion_tokens': 103}, 'model_name': 'mistral-large-latest', 'model': 'mistral-large-latest', 'finish_reason': 'stop'} id='run--dc64e802-5315-4ecd-998a-06379af16275-0' usage_metadata={'input_tokens': 29, 'output_tokens': 103, 'total_tokens': 132}\n"
          ]
        }
      ]
    },
    {
      "cell_type": "markdown",
      "source": [
        "# Prepare some fewshot instructions to enhance the result"
      ],
      "metadata": {
        "id": "SB80xYzPQhhX"
      }
    },
    {
      "cell_type": "code",
      "source": [
        "examples = [\n",
        "    {\n",
        "        \"question\": \"When I was seven, my sister was twice my age. Now I am seventy years old, how old can my sister be?\",\n",
        "        \"answer\": \"\\n\".join([\n",
        "            \"We will followup some questions to get the answer.\",\n",
        "            \"Follow up: How old was your sister when you were seven?\",\n",
        "            \"Intermediate answer: Twice, which mean 14 years.\",\n",
        "            \"Follow up: What is the difference between your age and your sister's age?\",\n",
        "            \"Intermediate answer: 14 years - 7 years = 7 years.\",\n",
        "            \"Follow up: When you were seventy years old, how old would your sister be?\",\n",
        "            \"Intermediate answer: my age (70) +  The difference between me and my sister's age (7) = 77 years.\",\n",
        "            \"Final Answer: 77 years.\"\n",
        "        ])\n",
        "    },\n",
        "    {\n",
        "        \"question\": \"I have five oranges, and the sum of what my sister and brother have is three times what I have plus thirty-five?\",\n",
        "        \"answer\": \"\\n\".join([\n",
        "            \"We will followup some questions to get the answer.\",\n",
        "            \"Follow up: How many oranges do you have?\",\n",
        "            \"Intermediate answer: 5 oranges.\",\n",
        "            \"Follow up: How many oranges does your sister and brother have?\",\n",
        "            \"Intermediate answer: three times: = 3 * 5 = 15. Also, we need to add thirty-five to them: 15 + 35 = 50 \",\n",
        "            \"Final Answer: 50 oranges.\"\n",
        "        ])\n",
        "    }\n",
        "]"
      ],
      "metadata": {
        "id": "prdOiRG6QfZ_"
      },
      "execution_count": 24,
      "outputs": []
    },
    {
      "cell_type": "code",
      "source": [
        "example_prompt = PromptTemplate(\n",
        "    template=\"Question: {question}\\n{answer}\",\n",
        "    input_variables=['question', 'answer']\n",
        "\n",
        ")\n",
        "\n",
        "prompt = FewShotPromptTemplate(\n",
        "    examples=examples,\n",
        "    example_prompt=example_prompt,\n",
        "    suffix=\"Question: {question}\",\n",
        "    input_variables=['question']\n",
        "\n",
        ")"
      ],
      "metadata": {
        "id": "OrNrbq-CSKFM"
      },
      "execution_count": 25,
      "outputs": []
    },
    {
      "cell_type": "code",
      "source": [
        "print(llm([HumanMessage(content=prompt.format(question=riddle_1))]))"
      ],
      "metadata": {
        "colab": {
          "base_uri": "https://localhost:8080/"
        },
        "id": "1g3dlCwzSeLT",
        "outputId": "405dc4e7-165c-4b6d-c5a7-a6873975b270"
      },
      "execution_count": 26,
      "outputs": [
        {
          "output_type": "stream",
          "name": "stdout",
          "text": [
            "content=\"Based on the information provided, let's break down the question to find out how many oranges your sister and brother have together.\\n\\n1. **How many oranges do you have?**\\n   - Intermediate answer: 5 oranges.\\n\\n2. **How many oranges do your sister and brother have together?**\\n   - Intermediate answer: Three times what you have would be \\\\( 3 \\\\times 5 = 15 \\\\) oranges.\\n   - Adding thirty-five to that: \\\\( 15 + 35 = 50 \\\\) oranges.\\n\\n3. **Final Answer:**\\n   - Your sister and brother together have 50 oranges.\" additional_kwargs={} response_metadata={'token_usage': {'prompt_tokens': 330, 'total_tokens': 483, 'completion_tokens': 153}, 'model_name': 'mistral-large-latest', 'model': 'mistral-large-latest', 'finish_reason': 'stop'} id='run--071b97d7-d087-4fc6-917d-7f85e08b1c7b-0' usage_metadata={'input_tokens': 330, 'output_tokens': 153, 'total_tokens': 483}\n"
          ]
        }
      ]
    },
    {
      "cell_type": "markdown",
      "source": [
        "# Output Parser"
      ],
      "metadata": {
        "id": "rqTmxj36YhMK"
      }
    },
    {
      "cell_type": "code",
      "source": [
        "from langchain.output_parsers import CommaSeparatedListOutputParser\n"
      ],
      "metadata": {
        "id": "2fKLeMJSS8uy"
      },
      "execution_count": 27,
      "outputs": []
    },
    {
      "cell_type": "code",
      "source": [
        "output_parser = CommaSeparatedListOutputParser()"
      ],
      "metadata": {
        "id": "HEeJ9e79S7d6"
      },
      "execution_count": 28,
      "outputs": []
    },
    {
      "cell_type": "code",
      "source": [
        "format_instructions = output_parser.get_format_instructions()"
      ],
      "metadata": {
        "id": "ctHVGGgbZIsd"
      },
      "execution_count": 29,
      "outputs": []
    },
    {
      "cell_type": "code",
      "source": [
        "prompt = PromptTemplate(\n",
        "    template=\"List five {subject}.\\n{format_instructions}\",\n",
        "    input_variables=['subject'],\n",
        "    partial_variables={\"format_instructions\": format_instructions}\n",
        "\n",
        "\n",
        ")"
      ],
      "metadata": {
        "id": "gTdx4Kk2S7aa"
      },
      "execution_count": 30,
      "outputs": []
    },
    {
      "cell_type": "code",
      "source": [
        "demo_message = prompt.format(subject=\"ice cream flavors\")"
      ],
      "metadata": {
        "id": "dSPBqGchapyJ"
      },
      "execution_count": 31,
      "outputs": []
    },
    {
      "cell_type": "code",
      "source": [
        "demo_message"
      ],
      "metadata": {
        "colab": {
          "base_uri": "https://localhost:8080/",
          "height": 35
        },
        "id": "ZmYuI9_dauGm",
        "outputId": "799d6d83-9708-41fb-ddc8-77b2258ec880"
      },
      "execution_count": 32,
      "outputs": [
        {
          "output_type": "execute_result",
          "data": {
            "text/plain": [
              "'List five ice cream flavors.\\nYour response should be a list of comma separated values, eg: `foo, bar, baz` or `foo,bar,baz`'"
            ],
            "application/vnd.google.colaboratory.intrinsic+json": {
              "type": "string"
            }
          },
          "metadata": {},
          "execution_count": 32
        }
      ]
    },
    {
      "cell_type": "code",
      "source": [
        "response = llm([HumanMessage(content=demo_message)])"
      ],
      "metadata": {
        "id": "RRbJ8w76S6xV"
      },
      "execution_count": 33,
      "outputs": []
    },
    {
      "cell_type": "code",
      "source": [
        "type(response)"
      ],
      "metadata": {
        "colab": {
          "base_uri": "https://localhost:8080/",
          "height": 186
        },
        "id": "4-5JhHz0aiuG",
        "outputId": "1c3acb0d-0cc1-4563-84c2-4cf9d6720930"
      },
      "execution_count": 34,
      "outputs": [
        {
          "output_type": "execute_result",
          "data": {
            "text/plain": [
              "langchain_core.messages.ai.AIMessage"
            ],
            "text/html": [
              "<div style=\"max-width:800px; border: 1px solid var(--colab-border-color);\"><style>\n",
              "      pre.function-repr-contents {\n",
              "        overflow-x: auto;\n",
              "        padding: 8px 12px;\n",
              "        max-height: 500px;\n",
              "      }\n",
              "\n",
              "      pre.function-repr-contents.function-repr-contents-collapsed {\n",
              "        cursor: pointer;\n",
              "        max-height: 100px;\n",
              "      }\n",
              "    </style>\n",
              "    <pre style=\"white-space: initial; background:\n",
              "         var(--colab-secondary-surface-color); padding: 8px 12px;\n",
              "         border-bottom: 1px solid var(--colab-border-color);\"><b>langchain_core.messages.ai.AIMessage</b><br/>def __init__(content: Union[str, list[Union[str, dict]]], **kwargs: Any) -&gt; None</pre><pre class=\"function-repr-contents function-repr-contents-collapsed\" style=\"\"><a class=\"filepath\" style=\"display:none\" href=\"#\">/usr/local/lib/python3.11/dist-packages/langchain_core/messages/ai.py</a>Message from an AI.\n",
              "\n",
              "AIMessage is returned from a chat model as a response to a prompt.\n",
              "\n",
              "This message represents the output of the model and consists of both\n",
              "the raw output as returned by the model together standardized fields\n",
              "(e.g., tool calls, usage metadata) added by the LangChain framework.</pre>\n",
              "      <script>\n",
              "      if (google.colab.kernel.accessAllowed && google.colab.files && google.colab.files.view) {\n",
              "        for (const element of document.querySelectorAll('.filepath')) {\n",
              "          element.style.display = 'block'\n",
              "          element.onclick = (event) => {\n",
              "            event.preventDefault();\n",
              "            event.stopPropagation();\n",
              "            google.colab.files.view(element.textContent, 149);\n",
              "          };\n",
              "        }\n",
              "      }\n",
              "      for (const element of document.querySelectorAll('.function-repr-contents')) {\n",
              "        element.onclick = (event) => {\n",
              "          event.preventDefault();\n",
              "          event.stopPropagation();\n",
              "          element.classList.toggle('function-repr-contents-collapsed');\n",
              "        };\n",
              "      }\n",
              "      </script>\n",
              "      </div>"
            ]
          },
          "metadata": {},
          "execution_count": 34
        }
      ]
    },
    {
      "cell_type": "code",
      "source": [
        "print(response)"
      ],
      "metadata": {
        "colab": {
          "base_uri": "https://localhost:8080/"
        },
        "id": "CoZrQex_S6jd",
        "outputId": "7cff6e3a-1f21-4484-8db5-01e8017c8544"
      },
      "execution_count": 35,
      "outputs": [
        {
          "output_type": "stream",
          "name": "stdout",
          "text": [
            "content='Vanilla, Chocolate, Strawberry, Mint Chocolate Chip, Cookies and Cream' additional_kwargs={} response_metadata={'token_usage': {'prompt_tokens': 42, 'total_tokens': 65, 'completion_tokens': 23}, 'model_name': 'mistral-large-latest', 'model': 'mistral-large-latest', 'finish_reason': 'stop'} id='run--7a211395-68e3-4b10-ac31-51b0ed215d62-0' usage_metadata={'input_tokens': 42, 'output_tokens': 23, 'total_tokens': 65}\n"
          ]
        }
      ]
    },
    {
      "cell_type": "code",
      "source": [
        "response[0]"
      ],
      "metadata": {
        "colab": {
          "base_uri": "https://localhost:8080/",
          "height": 141
        },
        "id": "jy7K3OM6bY6n",
        "outputId": "4bc8f468-58e5-46b1-bd31-5dba3e5e446b"
      },
      "execution_count": 36,
      "outputs": [
        {
          "output_type": "error",
          "ename": "TypeError",
          "evalue": "'AIMessage' object is not subscriptable",
          "traceback": [
            "\u001b[0;31m---------------------------------------------------------------------------\u001b[0m",
            "\u001b[0;31mTypeError\u001b[0m                                 Traceback (most recent call last)",
            "\u001b[0;32m<ipython-input-36-a73c4cb8a3c5>\u001b[0m in \u001b[0;36m<cell line: 0>\u001b[0;34m()\u001b[0m\n\u001b[0;32m----> 1\u001b[0;31m \u001b[0mresponse\u001b[0m\u001b[0;34m[\u001b[0m\u001b[0;36m0\u001b[0m\u001b[0;34m]\u001b[0m\u001b[0;34m\u001b[0m\u001b[0;34m\u001b[0m\u001b[0m\n\u001b[0m",
            "\u001b[0;31mTypeError\u001b[0m: 'AIMessage' object is not subscriptable"
          ]
        }
      ]
    },
    {
      "cell_type": "code",
      "source": [
        "response_out= output_parser.parse(str(response))"
      ],
      "metadata": {
        "id": "Iis1AgPtS6g1"
      },
      "execution_count": 37,
      "outputs": []
    },
    {
      "cell_type": "code",
      "source": [
        "type(response_out)"
      ],
      "metadata": {
        "colab": {
          "base_uri": "https://localhost:8080/"
        },
        "id": "ugXyddcXS6d4",
        "outputId": "290a6b87-88d6-437e-fcff-d71930b6dc34"
      },
      "execution_count": 38,
      "outputs": [
        {
          "output_type": "execute_result",
          "data": {
            "text/plain": [
              "list"
            ]
          },
          "metadata": {},
          "execution_count": 38
        }
      ]
    },
    {
      "cell_type": "code",
      "source": [
        "response_out[1]"
      ],
      "metadata": {
        "colab": {
          "base_uri": "https://localhost:8080/",
          "height": 35
        },
        "id": "7RAN3kkoS5_I",
        "outputId": "3f4c1b72-eaa6-4d97-88e7-6c5e7886f0d8"
      },
      "execution_count": 39,
      "outputs": [
        {
          "output_type": "execute_result",
          "data": {
            "text/plain": [
              "'Chocolate'"
            ],
            "application/vnd.google.colaboratory.intrinsic+json": {
              "type": "string"
            }
          },
          "metadata": {},
          "execution_count": 39
        }
      ]
    },
    {
      "cell_type": "markdown",
      "source": [
        "# design output parser"
      ],
      "metadata": {
        "id": "7i6JfBqZbm2q"
      }
    },
    {
      "cell_type": "code",
      "source": [
        "format_instructions=\"Your response should be a list of comma separated values, eg: `foo, bar, baz` or `foo,bar,baz`\""
      ],
      "metadata": {
        "id": "bcfKOnCmbund"
      },
      "execution_count": 40,
      "outputs": []
    },
    {
      "cell_type": "code",
      "source": [
        "prompt = PromptTemplate(\n",
        "    template=\"List five {subject}.\\n{format_instructions}\",\n",
        "    input_variables=['subject']\n",
        "\n",
        ")"
      ],
      "metadata": {
        "id": "vWhCM85xS58D"
      },
      "execution_count": 41,
      "outputs": []
    },
    {
      "cell_type": "code",
      "source": [
        "prompt"
      ],
      "metadata": {
        "colab": {
          "base_uri": "https://localhost:8080/"
        },
        "id": "ZGV4U82Yb1ay",
        "outputId": "534de198-4dca-4029-90f8-45602fb5d445"
      },
      "execution_count": 42,
      "outputs": [
        {
          "output_type": "execute_result",
          "data": {
            "text/plain": [
              "PromptTemplate(input_variables=['format_instructions', 'subject'], input_types={}, partial_variables={}, template='List five {subject}.\\n{format_instructions}')"
            ]
          },
          "metadata": {},
          "execution_count": 42
        }
      ]
    },
    {
      "cell_type": "code",
      "source": [
        "demo_message = prompt.format(subject=\"ice cream flavors\",format_instructions=format_instructions)"
      ],
      "metadata": {
        "id": "_nHnuqwEb3dz"
      },
      "execution_count": 43,
      "outputs": []
    },
    {
      "cell_type": "code",
      "source": [
        "demo_message"
      ],
      "metadata": {
        "colab": {
          "base_uri": "https://localhost:8080/",
          "height": 35
        },
        "id": "3v2bPKM9S55E",
        "outputId": "b9370009-7740-4668-de2f-4d563cedbc7c"
      },
      "execution_count": 44,
      "outputs": [
        {
          "output_type": "execute_result",
          "data": {
            "text/plain": [
              "'List five ice cream flavors.\\nYour response should be a list of comma separated values, eg: `foo, bar, baz` or `foo,bar,baz`'"
            ],
            "application/vnd.google.colaboratory.intrinsic+json": {
              "type": "string"
            }
          },
          "metadata": {},
          "execution_count": 44
        }
      ]
    },
    {
      "cell_type": "code",
      "source": [
        "print(llm([HumanMessage(demo_message)]))"
      ],
      "metadata": {
        "colab": {
          "base_uri": "https://localhost:8080/"
        },
        "id": "YeXKVXrUS51n",
        "outputId": "556e5a2b-ecfd-4a14-d79f-7a2bf751a3bc"
      },
      "execution_count": 45,
      "outputs": [
        {
          "output_type": "stream",
          "name": "stdout",
          "text": [
            "content='Vanilla, Chocolate, Strawberry, Mint Chocolate Chip, Cookies and Cream' additional_kwargs={} response_metadata={'token_usage': {'prompt_tokens': 42, 'total_tokens': 65, 'completion_tokens': 23}, 'model_name': 'mistral-large-latest', 'model': 'mistral-large-latest', 'finish_reason': 'stop'} id='run--e275318a-c1e9-42d2-bacc-6b82be13673c-0' usage_metadata={'input_tokens': 42, 'output_tokens': 23, 'total_tokens': 65}\n"
          ]
        }
      ]
    },
    {
      "cell_type": "markdown",
      "source": [
        "# PyDantic"
      ],
      "metadata": {
        "id": "y_kz6dvaeH_l"
      }
    },
    {
      "cell_type": "code",
      "source": [
        "from pydantic import BaseModel, Field\n",
        "from langchain.output_parsers import PydanticOutputParser"
      ],
      "metadata": {
        "id": "Va3BLzWceKdu"
      },
      "execution_count": 49,
      "outputs": []
    },
    {
      "cell_type": "code",
      "source": [
        "# {\n",
        "#     \"plate_name\": \"Shawerma\",\n",
        "#     \"ingredients\": [\n",
        "#         \"ingredient 1\", \"ingredient 2\"\n",
        "#     ]\n",
        "# }"
      ],
      "metadata": {
        "id": "BsvDOM-3S5yq"
      },
      "execution_count": 47,
      "outputs": []
    },
    {
      "cell_type": "code",
      "source": [
        "class tester(BaseModel):\n",
        "    plate_name: str = Field(..., description=\"The name of the plate\")\n",
        "    ingredients: list[str] = Field(..., description=\"The ingredients of the plate\")"
      ],
      "metadata": {
        "id": "PBO2SgQtS5r7"
      },
      "execution_count": 48,
      "outputs": []
    },
    {
      "cell_type": "code",
      "source": [
        "outparser = PydanticOutputParser(pydantic_object=tester)\n",
        "format_instructions = outparser.get_format_instructions()"
      ],
      "metadata": {
        "id": "Yey7qQw83qOF"
      },
      "execution_count": 51,
      "outputs": []
    },
    {
      "cell_type": "code",
      "source": [
        "prompt_c = PromptTemplate(\n",
        "    template=\"List five {subject}.\\n{format_instructions}\",\n",
        "    input_variables=['subject'],\n",
        "    partial_variables={\"format_instructions\": format_instructions}\n",
        "\n",
        ")"
      ],
      "metadata": {
        "id": "MDn-o5vJ4HMn"
      },
      "execution_count": 53,
      "outputs": []
    },
    {
      "cell_type": "code",
      "source": [
        "plate_name = 'Shawerma'\n",
        "\n",
        "message = prompt_c.format(subject=plate_name)"
      ],
      "metadata": {
        "id": "JacOM1W-4etV"
      },
      "execution_count": 54,
      "outputs": []
    },
    {
      "cell_type": "code",
      "source": [
        "response = llm([HumanMessage(content=message)])"
      ],
      "metadata": {
        "id": "LTza8Ogs4oDk"
      },
      "execution_count": 57,
      "outputs": []
    },
    {
      "cell_type": "code",
      "source": [
        "print(response)"
      ],
      "metadata": {
        "colab": {
          "base_uri": "https://localhost:8080/"
        },
        "id": "2MsGSs2k4rA4",
        "outputId": "a62c0b96-5825-4c34-c8bf-c32ec05382df"
      },
      "execution_count": 59,
      "outputs": [
        {
          "output_type": "stream",
          "name": "stdout",
          "text": [
            "content='```json\\n{\\n  \"plate_name\": \"Chicken Shawerma\",\\n  \"ingredients\": [\"Chicken\", \"Pita Bread\", \"Lettuce\", \"Tomatoes\", \"Red Onions\", \"Tahini Sauce\"]\\n}\\n```\\n\\n```json\\n{\\n  \"plate_name\": \"Lamb Shawerma\",\\n  \"ingredients\": [\"Lamb\", \"Pita Bread\", \"Lettuce\", \"Tomatoes\", \"Cucumbers\", \"Yogurt Sauce\"]\\n}\\n```\\n\\n```json\\n{\\n  \"plate_name\": \"Beef Shawerma\",\\n  \"ingredients\": [\"Beef\", \"Pita Bread\", \"Lettuce\", \"Onions\", \"Tomatoes\", \"Spicy Sauce\"]\\n}\\n```\\n\\n```json\\n{\\n  \"plate_name\": \"Vegetarian Shawerma\",\\n  \"ingredients\": [\"Vegetable Patty\", \"Pita Bread\", \"Lettuce\", \"Tomatoes\", \"Cucumbers\", \"Hummus\"]\\n}\\n```\\n\\n```json\\n{\\n  \"plate_name\": \"Turkey Shawerma\",\\n  \"ingredients\": [\"Turkey\", \"Pita Bread\", \"Lettuce\", \"Tomatoes\", \"Red Onions\", \"Tahini Sauce\"]\\n}\\n```' additional_kwargs={} response_metadata={'token_usage': {'prompt_tokens': 235, 'total_tokens': 562, 'completion_tokens': 327}, 'model_name': 'mistral-large-latest', 'model': 'mistral-large-latest', 'finish_reason': 'stop'} id='run--80a9de3a-adc2-4b64-bd50-d9dc90c1c0fd-0' usage_metadata={'input_tokens': 235, 'output_tokens': 327, 'total_tokens': 562}\n"
          ]
        }
      ]
    },
    {
      "cell_type": "code",
      "source": [
        "type(response)"
      ],
      "metadata": {
        "colab": {
          "base_uri": "https://localhost:8080/",
          "height": 186
        },
        "id": "sV8JB0Nf4ygL",
        "outputId": "c5e523dd-8dbb-4607-d22d-dbb97ebb0dc7"
      },
      "execution_count": 60,
      "outputs": [
        {
          "output_type": "execute_result",
          "data": {
            "text/plain": [
              "langchain_core.messages.ai.AIMessage"
            ],
            "text/html": [
              "<div style=\"max-width:800px; border: 1px solid var(--colab-border-color);\"><style>\n",
              "      pre.function-repr-contents {\n",
              "        overflow-x: auto;\n",
              "        padding: 8px 12px;\n",
              "        max-height: 500px;\n",
              "      }\n",
              "\n",
              "      pre.function-repr-contents.function-repr-contents-collapsed {\n",
              "        cursor: pointer;\n",
              "        max-height: 100px;\n",
              "      }\n",
              "    </style>\n",
              "    <pre style=\"white-space: initial; background:\n",
              "         var(--colab-secondary-surface-color); padding: 8px 12px;\n",
              "         border-bottom: 1px solid var(--colab-border-color);\"><b>langchain_core.messages.ai.AIMessage</b><br/>def __init__(content: Union[str, list[Union[str, dict]]], **kwargs: Any) -&gt; None</pre><pre class=\"function-repr-contents function-repr-contents-collapsed\" style=\"\"><a class=\"filepath\" style=\"display:none\" href=\"#\">/usr/local/lib/python3.11/dist-packages/langchain_core/messages/ai.py</a>Message from an AI.\n",
              "\n",
              "AIMessage is returned from a chat model as a response to a prompt.\n",
              "\n",
              "This message represents the output of the model and consists of both\n",
              "the raw output as returned by the model together standardized fields\n",
              "(e.g., tool calls, usage metadata) added by the LangChain framework.</pre>\n",
              "      <script>\n",
              "      if (google.colab.kernel.accessAllowed && google.colab.files && google.colab.files.view) {\n",
              "        for (const element of document.querySelectorAll('.filepath')) {\n",
              "          element.style.display = 'block'\n",
              "          element.onclick = (event) => {\n",
              "            event.preventDefault();\n",
              "            event.stopPropagation();\n",
              "            google.colab.files.view(element.textContent, 149);\n",
              "          };\n",
              "        }\n",
              "      }\n",
              "      for (const element of document.querySelectorAll('.function-repr-contents')) {\n",
              "        element.onclick = (event) => {\n",
              "          event.preventDefault();\n",
              "          event.stopPropagation();\n",
              "          element.classList.toggle('function-repr-contents-collapsed');\n",
              "        };\n",
              "      }\n",
              "      </script>\n",
              "      </div>"
            ]
          },
          "metadata": {},
          "execution_count": 60
        }
      ]
    },
    {
      "cell_type": "code",
      "source": [
        "response.content"
      ],
      "metadata": {
        "colab": {
          "base_uri": "https://localhost:8080/",
          "height": 105
        },
        "id": "csspojFT44iN",
        "outputId": "da2eb2f9-3a19-437c-f1e9-4eca32542b1b"
      },
      "execution_count": 66,
      "outputs": [
        {
          "output_type": "execute_result",
          "data": {
            "text/plain": [
              "'```json\\n{\\n  \"plate_name\": \"Chicken Shawerma\",\\n  \"ingredients\": [\"Chicken\", \"Pita Bread\", \"Lettuce\", \"Tomatoes\", \"Red Onions\", \"Tahini Sauce\"]\\n}\\n```\\n\\n```json\\n{\\n  \"plate_name\": \"Lamb Shawerma\",\\n  \"ingredients\": [\"Lamb\", \"Pita Bread\", \"Lettuce\", \"Tomatoes\", \"Cucumbers\", \"Yogurt Sauce\"]\\n}\\n```\\n\\n```json\\n{\\n  \"plate_name\": \"Beef Shawerma\",\\n  \"ingredients\": [\"Beef\", \"Pita Bread\", \"Lettuce\", \"Onions\", \"Tomatoes\", \"Spicy Sauce\"]\\n}\\n```\\n\\n```json\\n{\\n  \"plate_name\": \"Vegetarian Shawerma\",\\n  \"ingredients\": [\"Vegetable Patty\", \"Pita Bread\", \"Lettuce\", \"Tomatoes\", \"Cucumbers\", \"Hummus\"]\\n}\\n```\\n\\n```json\\n{\\n  \"plate_name\": \"Turkey Shawerma\",\\n  \"ingredients\": [\"Turkey\", \"Pita Bread\", \"Lettuce\", \"Tomatoes\", \"Red Onions\", \"Tahini Sauce\"]\\n}\\n```'"
            ],
            "application/vnd.google.colaboratory.intrinsic+json": {
              "type": "string"
            }
          },
          "metadata": {},
          "execution_count": 66
        }
      ]
    },
    {
      "cell_type": "markdown",
      "source": [
        "# now you can access"
      ],
      "metadata": {
        "id": "56XYbbAh5xtl"
      }
    },
    {
      "cell_type": "code",
      "source": [
        "output= outparser.parse(response.content)\n",
        "# print(outparser.parse(response.content)[\"ingredients"
      ],
      "metadata": {
        "id": "YtkGLWCJ4_T7"
      },
      "execution_count": 75,
      "outputs": []
    },
    {
      "cell_type": "code",
      "source": [
        "output.plate_name"
      ],
      "metadata": {
        "colab": {
          "base_uri": "https://localhost:8080/",
          "height": 35
        },
        "id": "zl2XPEAK5Lb8",
        "outputId": "68ecefba-c842-488d-88cd-e4b6a13cfe5d"
      },
      "execution_count": 76,
      "outputs": [
        {
          "output_type": "execute_result",
          "data": {
            "text/plain": [
              "'Chicken Shawerma'"
            ],
            "application/vnd.google.colaboratory.intrinsic+json": {
              "type": "string"
            }
          },
          "metadata": {},
          "execution_count": 76
        }
      ]
    },
    {
      "cell_type": "code",
      "source": [
        "output.ingredients\n"
      ],
      "metadata": {
        "colab": {
          "base_uri": "https://localhost:8080/"
        },
        "id": "6HuK1Krg5orZ",
        "outputId": "36348081-03a7-4e31-975b-ce1910a83c57"
      },
      "execution_count": 80,
      "outputs": [
        {
          "output_type": "execute_result",
          "data": {
            "text/plain": [
              "['Chicken', 'Pita Bread', 'Lettuce', 'Tomatoes', 'Red Onions', 'Tahini Sauce']"
            ]
          },
          "metadata": {},
          "execution_count": 80
        }
      ]
    },
    {
      "cell_type": "code",
      "source": [
        "output.ingredients\n"
      ],
      "metadata": {
        "colab": {
          "base_uri": "https://localhost:8080/"
        },
        "id": "pi61WNQJ5udF",
        "outputId": "9d9ed8ff-6cc6-49d7-ed26-4f009d2aab28"
      },
      "execution_count": 81,
      "outputs": [
        {
          "output_type": "execute_result",
          "data": {
            "text/plain": [
              "['Chicken', 'Pita Bread', 'Lettuce', 'Tomatoes', 'Red Onions', 'Tahini Sauce']"
            ]
          },
          "metadata": {},
          "execution_count": 81
        }
      ]
    },
    {
      "cell_type": "markdown",
      "source": [
        "### There type of memory we take about it in the previosue nootbook and we take about othore"
      ],
      "metadata": {
        "id": "HON2csJY6s63"
      }
    },
    {
      "cell_type": "markdown",
      "source": [
        "# Buffer Memory"
      ],
      "metadata": {
        "id": "B_aBB0U768g-"
      }
    },
    {
      "cell_type": "code",
      "source": [
        "from langchain.memory import ConversationBufferMemory\n",
        "from langchain.chains import ConversationChain"
      ],
      "metadata": {
        "id": "lTMeyebU664J"
      },
      "execution_count": 91,
      "outputs": []
    },
    {
      "cell_type": "code",
      "source": [
        "conversation = ConversationChain(\n",
        "    llm = llm,\n",
        "    memory = ConversationBufferMemory()\n",
        ")\n",
        ""
      ],
      "metadata": {
        "id": "VHcCTFRf7A3A"
      },
      "execution_count": 92,
      "outputs": []
    },
    {
      "cell_type": "code",
      "source": [
        "message_1 = \"Can you list 3 places in Paris to visit?\"\n",
        "\n",
        "message_2 = \"Which place has a lake view?\"\n",
        "\n",
        "message_3 = \"Can I visit in winter?\""
      ],
      "metadata": {
        "id": "cScUYjRO7lL9"
      },
      "execution_count": 93,
      "outputs": []
    },
    {
      "cell_type": "code",
      "source": [
        "output_1 = conversation.predict(input= message_1)"
      ],
      "metadata": {
        "id": "mjCjEnB_7lHk"
      },
      "execution_count": 94,
      "outputs": []
    },
    {
      "cell_type": "code",
      "source": [
        "output_2 = conversation.predict(input=message_2)\n",
        "print(output_2)"
      ],
      "metadata": {
        "colab": {
          "base_uri": "https://localhost:8080/"
        },
        "id": "3xkXvUy27lEd",
        "outputId": "8b877d04-e3d7-4357-b835-418a97dbf327"
      },
      "execution_count": 95,
      "outputs": [
        {
          "output_type": "stream",
          "name": "stdout",
          "text": [
            "In the list I provided, none of the places are specifically known for a lake view. However, if you're looking for beautiful water views in Paris, you might want to consider the following:\n",
            "\n",
            "**Seine River**: While not a lake, the Seine River offers beautiful views and is a iconic part of the Paris landscape. You can take a river cruise or simply stroll along the banks. Many famous landmarks, including the Eiffel Tower and Notre-Dame Cathedral, are visible from the river.\n",
            "\n",
            "If you're specifically looking for a lake, you might want to visit:\n",
            "\n",
            "**Bois de Boulogne**: This is one of the two largest public parks in Paris, located along the western edge of the 16th arrondissement. It contains several lakes, including the Lac Inférieur and the Lac Supérieur, which offer beautiful views and opportunities for boating and picnics.\n",
            "\n",
            "**Bois de Vincennes**: Located on the eastern edge of Paris, this is the other large public park in the city. It features several lakes, including Lac Daumesnil and Lac des Minimes, which offer tranquil views and various recreational activities.\n",
            "\n",
            "These parks are great for a relaxing day out and offer a different perspective on the city compared to the more bustling tourist hotspots.\n"
          ]
        }
      ]
    },
    {
      "cell_type": "code",
      "source": [
        "conversation"
      ],
      "metadata": {
        "colab": {
          "base_uri": "https://localhost:8080/"
        },
        "id": "-DCIgjez7lBV",
        "outputId": "77c865cc-da9f-4471-89af-0f5f6af370e9"
      },
      "execution_count": 96,
      "outputs": [
        {
          "output_type": "execute_result",
          "data": {
            "text/plain": [
              "ConversationChain(memory=ConversationBufferMemory(chat_memory=InMemoryChatMessageHistory(messages=[HumanMessage(content='Can you list 3 places in Paris to visit?', additional_kwargs={}, response_metadata={}), AIMessage(content=\"Absolutely, Paris is a city rich in history, culture, and cuisine. Here are three iconic places you might want to visit:\\n\\n1. **Eiffel Tower**: This is one of the most recognizable structures in the world. Built by Gustave Eiffel for the 1889 World's Fair, it stands at 324 meters tall. You can climb to the top for a breathtaking view of Paris, dine in one of its restaurants, or simply enjoy a picnic at the Champ de Mars. Don't forget to visit at night to see the tower sparkle with lights every hour.\\n\\n2. **Louvre Museum**: Home to thousands of works of art, including the Mona Lisa and the Winged Victory, the Louvre is a must-visit for art lovers. The museum itself is a piece of art, with the iconic glass pyramid in the courtyard. You could spend a whole day exploring its vast collections.\\n\\n3. **Notre-Dame Cathedral**: Although severely damaged by a fire in 2019, the cathedral remains an iconic symbol of French Gothic architecture. Restoration work is underway, but visitors can still appreciate its grandeur from the outside. The surrounding area, Île de la Cité, is also a great place to explore.\\n\\nOther notable places include the Montmartre district with its charming streets and the beautiful Sacré-Cœur Basilica, the Champs-Élysées for shopping and dining, and the Palace of Versailles just outside of Paris. Enjoy your trip!\", additional_kwargs={}, response_metadata={}), HumanMessage(content='Which place has a lake view?', additional_kwargs={}, response_metadata={}), AIMessage(content=\"In the list I provided, none of the places are specifically known for a lake view. However, if you're looking for beautiful water views in Paris, you might want to consider the following:\\n\\n**Seine River**: While not a lake, the Seine River offers beautiful views and is a iconic part of the Paris landscape. You can take a river cruise or simply stroll along the banks. Many famous landmarks, including the Eiffel Tower and Notre-Dame Cathedral, are visible from the river.\\n\\nIf you're specifically looking for a lake, you might want to visit:\\n\\n**Bois de Boulogne**: This is one of the two largest public parks in Paris, located along the western edge of the 16th arrondissement. It contains several lakes, including the Lac Inférieur and the Lac Supérieur, which offer beautiful views and opportunities for boating and picnics.\\n\\n**Bois de Vincennes**: Located on the eastern edge of Paris, this is the other large public park in the city. It features several lakes, including Lac Daumesnil and Lac des Minimes, which offer tranquil views and various recreational activities.\\n\\nThese parks are great for a relaxing day out and offer a different perspective on the city compared to the more bustling tourist hotspots.\", additional_kwargs={}, response_metadata={})])), verbose=False, llm=ChatMistralAI(client=<httpx.Client object at 0x7f756608c210>, async_client=<httpx.AsyncClient object at 0x7f756568d910>, mistral_api_key=SecretStr('**********'), endpoint='https://api.mistral.ai/v1', model='mistral-large-latest', temperature=0.9, model_kwargs={}), output_parser=StrOutputParser(), llm_kwargs={})"
            ]
          },
          "metadata": {},
          "execution_count": 96
        }
      ]
    },
    {
      "cell_type": "code",
      "source": [
        "(conversation.memory.buffer)"
      ],
      "metadata": {
        "colab": {
          "base_uri": "https://localhost:8080/",
          "height": 278
        },
        "id": "F2cYMTzd7k-X",
        "outputId": "8e8ef108-71db-44e2-bec1-7fc2cfa6f756"
      },
      "execution_count": 98,
      "outputs": [
        {
          "output_type": "execute_result",
          "data": {
            "text/plain": [
              "\"Human: Can you list 3 places in Paris to visit?\\nAI: Absolutely, Paris is a city rich in history, culture, and cuisine. Here are three iconic places you might want to visit:\\n\\n1. **Eiffel Tower**: This is one of the most recognizable structures in the world. Built by Gustave Eiffel for the 1889 World's Fair, it stands at 324 meters tall. You can climb to the top for a breathtaking view of Paris, dine in one of its restaurants, or simply enjoy a picnic at the Champ de Mars. Don't forget to visit at night to see the tower sparkle with lights every hour.\\n\\n2. **Louvre Museum**: Home to thousands of works of art, including the Mona Lisa and the Winged Victory, the Louvre is a must-visit for art lovers. The museum itself is a piece of art, with the iconic glass pyramid in the courtyard. You could spend a whole day exploring its vast collections.\\n\\n3. **Notre-Dame Cathedral**: Although severely damaged by a fire in 2019, the cathedral remains an iconic symbol of French Gothic architecture. Restoration work is underway, but visitors can still appreciate its grandeur from the outside. The surrounding area, Île de la Cité, is also a great place to explore.\\n\\nOther notable places include the Montmartre district with its charming streets and the beautiful Sacré-Cœur Basilica, the Champs-Élysées for shopping and dining, and the Palace of Versailles just outside of Paris. Enjoy your trip!\\nHuman: Which place has a lake view?\\nAI: In the list I provided, none of the places are specifically known for a lake view. However, if you're looking for beautiful water views in Paris, you might want to consider the following:\\n\\n**Seine River**: While not a lake, the Seine River offers beautiful views and is a iconic part of the Paris landscape. You can take a river cruise or simply stroll along the banks. Many famous landmarks, including the Eiffel Tower and Notre-Dame Cathedral, are visible from the river.\\n\\nIf you're specifically looking for a lake, you might want to visit:\\n\\n**Bois de Boulogne**: This is one of the two largest public parks in Paris, located along the western edge of the 16th arrondissement. It contains several lakes, including the Lac Inférieur and the Lac Supérieur, which offer beautiful views and opportunities for boating and picnics.\\n\\n**Bois de Vincennes**: Located on the eastern edge of Paris, this is the other large public park in the city. It features several lakes, including Lac Daumesnil and Lac des Minimes, which offer tranquil views and various recreational activities.\\n\\nThese parks are great for a relaxing day out and offer a different perspective on the city compared to the more bustling tourist hotspots.\""
            ],
            "application/vnd.google.colaboratory.intrinsic+json": {
              "type": "string"
            }
          },
          "metadata": {},
          "execution_count": 98
        }
      ]
    },
    {
      "cell_type": "code",
      "source": [
        "conversation.memory.load_memory_variables({\n",
        "\n",
        "})"
      ],
      "metadata": {
        "colab": {
          "base_uri": "https://localhost:8080/"
        },
        "id": "xYb7Mvu18cdj",
        "outputId": "06cbecc7-02b1-4a6d-f5d4-0f43b5b5ec8b"
      },
      "execution_count": 102,
      "outputs": [
        {
          "output_type": "execute_result",
          "data": {
            "text/plain": [
              "{'history': \"Human: Can you list 3 places in Paris to visit?\\nAI: Absolutely, Paris is a city rich in history, culture, and cuisine. Here are three iconic places you might want to visit:\\n\\n1. **Eiffel Tower**: This is one of the most recognizable structures in the world. Built by Gustave Eiffel for the 1889 World's Fair, it stands at 324 meters tall. You can climb to the top for a breathtaking view of Paris, dine in one of its restaurants, or simply enjoy a picnic at the Champ de Mars. Don't forget to visit at night to see the tower sparkle with lights every hour.\\n\\n2. **Louvre Museum**: Home to thousands of works of art, including the Mona Lisa and the Winged Victory, the Louvre is a must-visit for art lovers. The museum itself is a piece of art, with the iconic glass pyramid in the courtyard. You could spend a whole day exploring its vast collections.\\n\\n3. **Notre-Dame Cathedral**: Although severely damaged by a fire in 2019, the cathedral remains an iconic symbol of French Gothic architecture. Restoration work is underway, but visitors can still appreciate its grandeur from the outside. The surrounding area, Île de la Cité, is also a great place to explore.\\n\\nOther notable places include the Montmartre district with its charming streets and the beautiful Sacré-Cœur Basilica, the Champs-Élysées for shopping and dining, and the Palace of Versailles just outside of Paris. Enjoy your trip!\\nHuman: Which place has a lake view?\\nAI: In the list I provided, none of the places are specifically known for a lake view. However, if you're looking for beautiful water views in Paris, you might want to consider the following:\\n\\n**Seine River**: While not a lake, the Seine River offers beautiful views and is a iconic part of the Paris landscape. You can take a river cruise or simply stroll along the banks. Many famous landmarks, including the Eiffel Tower and Notre-Dame Cathedral, are visible from the river.\\n\\nIf you're specifically looking for a lake, you might want to visit:\\n\\n**Bois de Boulogne**: This is one of the two largest public parks in Paris, located along the western edge of the 16th arrondissement. It contains several lakes, including the Lac Inférieur and the Lac Supérieur, which offer beautiful views and opportunities for boating and picnics.\\n\\n**Bois de Vincennes**: Located on the eastern edge of Paris, this is the other large public park in the city. It features several lakes, including Lac Daumesnil and Lac des Minimes, which offer tranquil views and various recreational activities.\\n\\nThese parks are great for a relaxing day out and offer a different perspective on the city compared to the more bustling tourist hotspots.\"}"
            ]
          },
          "metadata": {},
          "execution_count": 102
        }
      ]
    },
    {
      "cell_type": "code",
      "source": [
        "conversation.memory.chat_memory.messages"
      ],
      "metadata": {
        "colab": {
          "base_uri": "https://localhost:8080/"
        },
        "id": "LVuxBGnD8xSZ",
        "outputId": "f4cf1964-b8f9-47cf-9b2d-d85130316b49"
      },
      "execution_count": 103,
      "outputs": [
        {
          "output_type": "execute_result",
          "data": {
            "text/plain": [
              "[HumanMessage(content='Can you list 3 places in Paris to visit?', additional_kwargs={}, response_metadata={}),\n",
              " AIMessage(content=\"Absolutely, Paris is a city rich in history, culture, and cuisine. Here are three iconic places you might want to visit:\\n\\n1. **Eiffel Tower**: This is one of the most recognizable structures in the world. Built by Gustave Eiffel for the 1889 World's Fair, it stands at 324 meters tall. You can climb to the top for a breathtaking view of Paris, dine in one of its restaurants, or simply enjoy a picnic at the Champ de Mars. Don't forget to visit at night to see the tower sparkle with lights every hour.\\n\\n2. **Louvre Museum**: Home to thousands of works of art, including the Mona Lisa and the Winged Victory, the Louvre is a must-visit for art lovers. The museum itself is a piece of art, with the iconic glass pyramid in the courtyard. You could spend a whole day exploring its vast collections.\\n\\n3. **Notre-Dame Cathedral**: Although severely damaged by a fire in 2019, the cathedral remains an iconic symbol of French Gothic architecture. Restoration work is underway, but visitors can still appreciate its grandeur from the outside. The surrounding area, Île de la Cité, is also a great place to explore.\\n\\nOther notable places include the Montmartre district with its charming streets and the beautiful Sacré-Cœur Basilica, the Champs-Élysées for shopping and dining, and the Palace of Versailles just outside of Paris. Enjoy your trip!\", additional_kwargs={}, response_metadata={}),\n",
              " HumanMessage(content='Which place has a lake view?', additional_kwargs={}, response_metadata={}),\n",
              " AIMessage(content=\"In the list I provided, none of the places are specifically known for a lake view. However, if you're looking for beautiful water views in Paris, you might want to consider the following:\\n\\n**Seine River**: While not a lake, the Seine River offers beautiful views and is a iconic part of the Paris landscape. You can take a river cruise or simply stroll along the banks. Many famous landmarks, including the Eiffel Tower and Notre-Dame Cathedral, are visible from the river.\\n\\nIf you're specifically looking for a lake, you might want to visit:\\n\\n**Bois de Boulogne**: This is one of the two largest public parks in Paris, located along the western edge of the 16th arrondissement. It contains several lakes, including the Lac Inférieur and the Lac Supérieur, which offer beautiful views and opportunities for boating and picnics.\\n\\n**Bois de Vincennes**: Located on the eastern edge of Paris, this is the other large public park in the city. It features several lakes, including Lac Daumesnil and Lac des Minimes, which offer tranquil views and various recreational activities.\\n\\nThese parks are great for a relaxing day out and offer a different perspective on the city compared to the more bustling tourist hotspots.\", additional_kwargs={}, response_metadata={})]"
            ]
          },
          "metadata": {},
          "execution_count": 103
        }
      ]
    },
    {
      "cell_type": "code",
      "source": [
        "for msg in conversation.memory.chat_memory.messages:\n",
        "    print(msg)\n",
        "    print('---------------')"
      ],
      "metadata": {
        "colab": {
          "base_uri": "https://localhost:8080/"
        },
        "id": "X32lXpFN82ea",
        "outputId": "e650f38c-321b-4c5a-b1d1-ed5fcffb2643"
      },
      "execution_count": 104,
      "outputs": [
        {
          "output_type": "stream",
          "name": "stdout",
          "text": [
            "content='Can you list 3 places in Paris to visit?' additional_kwargs={} response_metadata={}\n",
            "---------------\n",
            "content=\"Absolutely, Paris is a city rich in history, culture, and cuisine. Here are three iconic places you might want to visit:\\n\\n1. **Eiffel Tower**: This is one of the most recognizable structures in the world. Built by Gustave Eiffel for the 1889 World's Fair, it stands at 324 meters tall. You can climb to the top for a breathtaking view of Paris, dine in one of its restaurants, or simply enjoy a picnic at the Champ de Mars. Don't forget to visit at night to see the tower sparkle with lights every hour.\\n\\n2. **Louvre Museum**: Home to thousands of works of art, including the Mona Lisa and the Winged Victory, the Louvre is a must-visit for art lovers. The museum itself is a piece of art, with the iconic glass pyramid in the courtyard. You could spend a whole day exploring its vast collections.\\n\\n3. **Notre-Dame Cathedral**: Although severely damaged by a fire in 2019, the cathedral remains an iconic symbol of French Gothic architecture. Restoration work is underway, but visitors can still appreciate its grandeur from the outside. The surrounding area, Île de la Cité, is also a great place to explore.\\n\\nOther notable places include the Montmartre district with its charming streets and the beautiful Sacré-Cœur Basilica, the Champs-Élysées for shopping and dining, and the Palace of Versailles just outside of Paris. Enjoy your trip!\" additional_kwargs={} response_metadata={}\n",
            "---------------\n",
            "content='Which place has a lake view?' additional_kwargs={} response_metadata={}\n",
            "---------------\n",
            "content=\"In the list I provided, none of the places are specifically known for a lake view. However, if you're looking for beautiful water views in Paris, you might want to consider the following:\\n\\n**Seine River**: While not a lake, the Seine River offers beautiful views and is a iconic part of the Paris landscape. You can take a river cruise or simply stroll along the banks. Many famous landmarks, including the Eiffel Tower and Notre-Dame Cathedral, are visible from the river.\\n\\nIf you're specifically looking for a lake, you might want to visit:\\n\\n**Bois de Boulogne**: This is one of the two largest public parks in Paris, located along the western edge of the 16th arrondissement. It contains several lakes, including the Lac Inférieur and the Lac Supérieur, which offer beautiful views and opportunities for boating and picnics.\\n\\n**Bois de Vincennes**: Located on the eastern edge of Paris, this is the other large public park in the city. It features several lakes, including Lac Daumesnil and Lac des Minimes, which offer tranquil views and various recreational activities.\\n\\nThese parks are great for a relaxing day out and offer a different perspective on the city compared to the more bustling tourist hotspots.\" additional_kwargs={} response_metadata={}\n",
            "---------------\n"
          ]
        }
      ]
    },
    {
      "cell_type": "markdown",
      "source": [
        "### To clear variable you can use clear()"
      ],
      "metadata": {
        "id": "38HimlZC9J0C"
      }
    },
    {
      "cell_type": "code",
      "source": [
        "conversation.memory.clear()"
      ],
      "metadata": {
        "id": "hdEONCZM9EBm"
      },
      "execution_count": 105,
      "outputs": []
    },
    {
      "cell_type": "code",
      "source": [
        "conversation.verbose = True"
      ],
      "metadata": {
        "id": "mEXxM2ug9Yac"
      },
      "execution_count": 106,
      "outputs": []
    },
    {
      "cell_type": "code",
      "source": [
        "conversation.predict(input=message_1)"
      ],
      "metadata": {
        "colab": {
          "base_uri": "https://localhost:8080/",
          "height": 350
        },
        "id": "lMjqeqop9c0O",
        "outputId": "a9e75656-5580-4b7d-f4d5-1949b38619ca"
      },
      "execution_count": 107,
      "outputs": [
        {
          "output_type": "stream",
          "name": "stdout",
          "text": [
            "\n",
            "\n",
            "\u001b[1m> Entering new ConversationChain chain...\u001b[0m\n",
            "Prompt after formatting:\n",
            "\u001b[32;1m\u001b[1;3mThe following is a friendly conversation between a human and an AI. The AI is talkative and provides lots of specific details from its context. If the AI does not know the answer to a question, it truthfully says it does not know.\n",
            "\n",
            "Current conversation:\n",
            "\n",
            "Human: Can you list 3 places in Paris to visit?\n",
            "AI:\u001b[0m\n",
            "\n",
            "\u001b[1m> Finished chain.\u001b[0m\n"
          ]
        },
        {
          "output_type": "execute_result",
          "data": {
            "text/plain": [
              "\"Absolutely, Paris is filled with remarkable places to visit. Here are three iconic locations you shouldn't miss:\\n\\n1. **Eiffel Tower**: This is undoubtedly the most recognizable symbol of Paris. Built by Gustave Eiffel for the 1889 World's Fair, it stands at 324 meters tall and offers breathtaking views of the city. Don't miss the light show every hour after sunset!\\n\\n2. **Louvre Museum**: Home to thousands of works of art, including the Mona Lisa and the Winged Victory, the Louvre is a must-visit for art enthusiasts. The museum itself is a historic palace, with the famous glass pyramid in the courtyard.\\n\\n3. **Notre-Dame Cathedral**: Although severely damaged by a fire in 2019, the cathedral remains an iconic landmark in Paris. Restoration work is underway, but visitors can still appreciate the architecture and history from the outside. The surrounding area, Île de la Cité, is also worth exploring.\\n\\nThese places offer a mix of art, history, and stunning views, giving you a well-rounded experience of Paris. Enjoy your trip!\""
            ],
            "application/vnd.google.colaboratory.intrinsic+json": {
              "type": "string"
            }
          },
          "metadata": {},
          "execution_count": 107
        }
      ]
    },
    {
      "cell_type": "code",
      "source": [
        "conversation.predict(input=message_2)"
      ],
      "metadata": {
        "colab": {
          "base_uri": "https://localhost:8080/",
          "height": 472
        },
        "id": "8UOSYFDi9gSf",
        "outputId": "ef5cd083-ca32-4d0b-fc85-fa3aa0c7e8aa"
      },
      "execution_count": 108,
      "outputs": [
        {
          "output_type": "stream",
          "name": "stdout",
          "text": [
            "\n",
            "\n",
            "\u001b[1m> Entering new ConversationChain chain...\u001b[0m\n",
            "Prompt after formatting:\n",
            "\u001b[32;1m\u001b[1;3mThe following is a friendly conversation between a human and an AI. The AI is talkative and provides lots of specific details from its context. If the AI does not know the answer to a question, it truthfully says it does not know.\n",
            "\n",
            "Current conversation:\n",
            "Human: Can you list 3 places in Paris to visit?\n",
            "AI: Absolutely, Paris is filled with remarkable places to visit. Here are three iconic locations you shouldn't miss:\n",
            "\n",
            "1. **Eiffel Tower**: This is undoubtedly the most recognizable symbol of Paris. Built by Gustave Eiffel for the 1889 World's Fair, it stands at 324 meters tall and offers breathtaking views of the city. Don't miss the light show every hour after sunset!\n",
            "\n",
            "2. **Louvre Museum**: Home to thousands of works of art, including the Mona Lisa and the Winged Victory, the Louvre is a must-visit for art enthusiasts. The museum itself is a historic palace, with the famous glass pyramid in the courtyard.\n",
            "\n",
            "3. **Notre-Dame Cathedral**: Although severely damaged by a fire in 2019, the cathedral remains an iconic landmark in Paris. Restoration work is underway, but visitors can still appreciate the architecture and history from the outside. The surrounding area, Île de la Cité, is also worth exploring.\n",
            "\n",
            "These places offer a mix of art, history, and stunning views, giving you a well-rounded experience of Paris. Enjoy your trip!\n",
            "Human: Which place has a lake view?\n",
            "AI:\u001b[0m\n",
            "\n",
            "\u001b[1m> Finished chain.\u001b[0m\n"
          ]
        },
        {
          "output_type": "execute_result",
          "data": {
            "text/plain": [
              "\"In the list I provided, none of the places are specifically known for a lake view. However, if you're looking for beautiful water views in Paris, you might want to consider visiting places along the Seine River, which flows through the heart of the city. Alternatively, the Luxembourg Garden has a gorgeous geometric forest and a circular basin with a fountain where children can sail model boats, offering a charming water view. Another option is the Bois de Boulogne, a large public park that has several lakes and offers boat rentals. But these are not lake views in the traditional sense, as Paris is not famous for large lakes like some other cities.\""
            ],
            "application/vnd.google.colaboratory.intrinsic+json": {
              "type": "string"
            }
          },
          "metadata": {},
          "execution_count": 108
        }
      ]
    },
    {
      "cell_type": "markdown",
      "source": [
        "# Buffer Window Memory"
      ],
      "metadata": {
        "id": "c6Aynfg5-XTQ"
      }
    },
    {
      "cell_type": "code",
      "source": [
        "from langchain.memory import ConversationBufferWindowMemory"
      ],
      "metadata": {
        "id": "4Ir1mCUG-IEl"
      },
      "execution_count": 112,
      "outputs": []
    },
    {
      "cell_type": "code",
      "source": [
        "conversation = ConversationChain(\n",
        "    llm= llm,\n",
        "    memory = ConversationBufferWindowMemory(k=1),\n",
        "    verbose= True\n",
        ")"
      ],
      "metadata": {
        "id": "EzgRsYAd-m8d"
      },
      "execution_count": 113,
      "outputs": []
    },
    {
      "cell_type": "code",
      "source": [
        "message_1 = \"Can you list 3 places in Paris to visit?\"\n",
        "\n",
        "message_2 = \"Which place has a lake view?\"\n",
        "\n",
        "message_3 = \"Can I visit in winter?\""
      ],
      "metadata": {
        "id": "CPhK5QTI-3-r"
      },
      "execution_count": 114,
      "outputs": []
    },
    {
      "cell_type": "code",
      "source": [
        "print( conversation.predict(input=message_1) )"
      ],
      "metadata": {
        "colab": {
          "base_uri": "https://localhost:8080/"
        },
        "id": "HpWD-hwd-7BO",
        "outputId": "b421190d-fe61-4065-b7e6-80ec063f1120"
      },
      "execution_count": 118,
      "outputs": [
        {
          "output_type": "stream",
          "name": "stdout",
          "text": [
            "\n",
            "\n",
            "\u001b[1m> Entering new ConversationChain chain...\u001b[0m\n",
            "Prompt after formatting:\n",
            "\u001b[32;1m\u001b[1;3mThe following is a friendly conversation between a human and an AI. The AI is talkative and provides lots of specific details from its context. If the AI does not know the answer to a question, it truthfully says it does not know.\n",
            "\n",
            "Current conversation:\n",
            "Human: Can I visit in winter?\n",
            "AI: Yes, you can definitely visit these places in winter, but keep in mind that the experience may differ slightly from other times of the year. Here's what to expect:\n",
            "\n",
            "**Luxembourg Garden**: The garden is open year-round, but the hours are reduced in winter. The statue fountains are usually turned off during winter to prevent freezing, and some of the plants and flowers may not be in bloom. However, the garden can be quite beautiful on a crisp winter day, and the Grand Bassin may even freeze over, providing a unique sight.\n",
            "\n",
            "**Palace of Versailles**: The palace and its gardens are open year-round, but the fountains and musical gardens are typically only operational from April to October. The gardens can be starkly beautiful in winter, and you may even see them with a dusting of snow. Be sure to check the opening hours and days, as they can change depending on the season.\n",
            "\n",
            "**Bois de Boulogne**: The park remains open year-round, and the lakes should still provide a lovely view. However, some activities, like boating, may not be available due to low temperatures or ice. The park can be quite picturesque under a blanket of snow.\n",
            "\n",
            "Remember to dress warmly and prepare for shorter daylight hours when visiting in winter. Also, it's a good idea to check the official websites for these attractions to confirm opening hours and any potential closures before your visit. Enjoy your winter exploration!\n",
            "Human: Can you list 3 places in Paris to visit?\n",
            "AI:\u001b[0m\n",
            "\n",
            "\u001b[1m> Finished chain.\u001b[0m\n",
            "Absolutely! Paris is filled with iconic landmarks, world-class museums, and charming neighborhoods. Here are three must-visit places:\n",
            "\n",
            "1. **Eiffel Tower**: Often considered the symbol of Paris, the Eiffel Tower offers breathtaking views of the city from its various levels. You can choose to climb the stairs or take the elevator to the top. Don't forget to enjoy a picnic at the Champ de Mars, the sprawling green space at the foot of the tower. At night, the tower is illuminated, providing a romantic backdrop for an evening stroll.\n",
            "\n",
            "2. **Louvre Museum**: Home to thousands of works of art, including the Mona Lisa and the Winged Victory, the Louvre is a must-visit for art lovers. The museum is housed in the Louvre Palace, with the iconic glass pyramid marking its entrance. You could spend days exploring its vast collections, so plan your visit accordingly and don't miss the highlights.\n",
            "\n",
            "3. **Montmartre**: Known for its bohemian past, charming cobbled streets, and the iconic Sacré-Cœur Basilica at its summit, Montmartre is a delightful neighborhood to explore. The area is filled with art galleries, cafes, and the famous Place du Tertre, where local artists create and sell their work. Don't miss the stunning view of Paris from the top of the hill.\n",
            "\n",
            "These three places offer a mix of iconic sights, art, and charming Parisian atmosphere. Enjoy your trip! If you're looking for more specific experiences or off-the-beaten-path locations, just let me know.\n"
          ]
        }
      ]
    },
    {
      "cell_type": "code",
      "source": [
        "print( conversation.predict(input=message_2) )"
      ],
      "metadata": {
        "colab": {
          "base_uri": "https://localhost:8080/"
        },
        "id": "X6fIv3Cr-6-P",
        "outputId": "a9760656-519d-457f-b65a-d5744c0a901a"
      },
      "execution_count": 119,
      "outputs": [
        {
          "output_type": "stream",
          "name": "stdout",
          "text": [
            "\n",
            "\n",
            "\u001b[1m> Entering new ConversationChain chain...\u001b[0m\n",
            "Prompt after formatting:\n",
            "\u001b[32;1m\u001b[1;3mThe following is a friendly conversation between a human and an AI. The AI is talkative and provides lots of specific details from its context. If the AI does not know the answer to a question, it truthfully says it does not know.\n",
            "\n",
            "Current conversation:\n",
            "Human: Can you list 3 places in Paris to visit?\n",
            "AI: Absolutely! Paris is filled with iconic landmarks, world-class museums, and charming neighborhoods. Here are three must-visit places:\n",
            "\n",
            "1. **Eiffel Tower**: Often considered the symbol of Paris, the Eiffel Tower offers breathtaking views of the city from its various levels. You can choose to climb the stairs or take the elevator to the top. Don't forget to enjoy a picnic at the Champ de Mars, the sprawling green space at the foot of the tower. At night, the tower is illuminated, providing a romantic backdrop for an evening stroll.\n",
            "\n",
            "2. **Louvre Museum**: Home to thousands of works of art, including the Mona Lisa and the Winged Victory, the Louvre is a must-visit for art lovers. The museum is housed in the Louvre Palace, with the iconic glass pyramid marking its entrance. You could spend days exploring its vast collections, so plan your visit accordingly and don't miss the highlights.\n",
            "\n",
            "3. **Montmartre**: Known for its bohemian past, charming cobbled streets, and the iconic Sacré-Cœur Basilica at its summit, Montmartre is a delightful neighborhood to explore. The area is filled with art galleries, cafes, and the famous Place du Tertre, where local artists create and sell their work. Don't miss the stunning view of Paris from the top of the hill.\n",
            "\n",
            "These three places offer a mix of iconic sights, art, and charming Parisian atmosphere. Enjoy your trip! If you're looking for more specific experiences or off-the-beaten-path locations, just let me know.\n",
            "Human: Which place has a lake view?\n",
            "AI:\u001b[0m\n",
            "\n",
            "\u001b[1m> Finished chain.\u001b[0m\n",
            "In the list I provided, none of the places are specifically known for a lake view, as Paris does not have any prominent lakes within its city center. However, if you're looking for beautiful water views in Paris, you might want to consider the following:\n",
            "\n",
            "**Seine River**: While not a lake, the Seine River is an iconic waterway that runs through the heart of Paris. You can enjoy lovely views of the river from various bridges, or take a scenic boat cruise to see many of Paris's most famous landmarks from the water.\n",
            "\n",
            "**Luxembourg Garden (Jardin du Luxembourg)**: Although it's not a lake, the Luxembourg Garden features a beautiful octagonal pond, the Grand Bassin, where you can enjoy a relaxing atmosphere. The garden is located in the 6th arrondissement and is known for its formal terraces, ornate statues, and geometric patterns of lawns and flower beds.\n",
            "\n",
            "If you're specifically looking for a lake, you might need to venture slightly outside of central Paris. **Bois de Boulogne** and **Bois de Vincennes** are large public parks on the western and eastern edges of Paris, respectively, and both feature lakes within their grounds.\n",
            "\n",
            "**Bois de Boulogne**: This park has several lakes, including Lac Inférieur and Lac Supérieur, where you can enjoy peaceful walks, boating, and picnicking.\n",
            "\n",
            "**Bois de Vincennes**: This park features four lakes, with Lac Daumesnil being one of the largest and most picturesque. You can rent a rowboat or visit the nearby Parc Floral de Paris.\n",
            "\n",
            "These locations offer beautiful water views and a chance to enjoy nature within the city.\n"
          ]
        }
      ]
    },
    {
      "cell_type": "code",
      "source": [
        "print( conversation.predict(input=message_3) )"
      ],
      "metadata": {
        "colab": {
          "base_uri": "https://localhost:8080/"
        },
        "id": "1csIK89w-66w",
        "outputId": "89c4eb87-8c79-46be-90ae-a4269fff6961"
      },
      "execution_count": 120,
      "outputs": [
        {
          "output_type": "stream",
          "name": "stdout",
          "text": [
            "\n",
            "\n",
            "\u001b[1m> Entering new ConversationChain chain...\u001b[0m\n",
            "Prompt after formatting:\n",
            "\u001b[32;1m\u001b[1;3mThe following is a friendly conversation between a human and an AI. The AI is talkative and provides lots of specific details from its context. If the AI does not know the answer to a question, it truthfully says it does not know.\n",
            "\n",
            "Current conversation:\n",
            "Human: Which place has a lake view?\n",
            "AI: In the list I provided, none of the places are specifically known for a lake view, as Paris does not have any prominent lakes within its city center. However, if you're looking for beautiful water views in Paris, you might want to consider the following:\n",
            "\n",
            "**Seine River**: While not a lake, the Seine River is an iconic waterway that runs through the heart of Paris. You can enjoy lovely views of the river from various bridges, or take a scenic boat cruise to see many of Paris's most famous landmarks from the water.\n",
            "\n",
            "**Luxembourg Garden (Jardin du Luxembourg)**: Although it's not a lake, the Luxembourg Garden features a beautiful octagonal pond, the Grand Bassin, where you can enjoy a relaxing atmosphere. The garden is located in the 6th arrondissement and is known for its formal terraces, ornate statues, and geometric patterns of lawns and flower beds.\n",
            "\n",
            "If you're specifically looking for a lake, you might need to venture slightly outside of central Paris. **Bois de Boulogne** and **Bois de Vincennes** are large public parks on the western and eastern edges of Paris, respectively, and both feature lakes within their grounds.\n",
            "\n",
            "**Bois de Boulogne**: This park has several lakes, including Lac Inférieur and Lac Supérieur, where you can enjoy peaceful walks, boating, and picnicking.\n",
            "\n",
            "**Bois de Vincennes**: This park features four lakes, with Lac Daumesnil being one of the largest and most picturesque. You can rent a rowboat or visit the nearby Parc Floral de Paris.\n",
            "\n",
            "These locations offer beautiful water views and a chance to enjoy nature within the city.\n",
            "Human: Can I visit in winter?\n",
            "AI:\u001b[0m\n",
            "\n",
            "\u001b[1m> Finished chain.\u001b[0m\n",
            "Absolutely, you can visit these places in winter, and they offer unique experiences during the colder months. Here's what you might expect:\n",
            "\n",
            "**Seine River**: Winter is a wonderful time to take a river cruise. You'll see Paris's historic sites under a different light, and the boats are often heated for comfort. The banks of the Seine might be chilly for a stroll, but they offer a lovely atmosphere, and you can always warm up in a nearby café.\n",
            "\n",
            "**Luxembourg Garden**: In winter, the garden transforms into a tranquil and picturesque scene. The trees are bare, but the crisp air and open views make it a peaceful spot for a bundled-up walk. You might even see children sailing toy boats in the Grand Bassin, a beloved Parisian tradition.\n",
            "\n",
            "**Bois de Boulogne and Bois de Vincennes**: Both parks remain open in winter and offer beautiful, serene landscapes. You can still enjoy a walk or rent a boat, weather permitting. However, some facilities and concessions might have limited hours or be closed, so it’s a good idea to check their websites or contact them before visiting.\n",
            "\n",
            "**Additional Winter Attractions**:\n",
            "- **Ice Skating**: Paris often sets up ice skating rinks in iconic locations like the Eiffel Tower and Montparnasse Tower during the winter months.\n",
            "- **Christmas Markets**: If you visit in December, you can enjoy the festive atmosphere of Parisian Christmas markets, where you can shop for gifts, try seasonal treats, and sip on warm beverages.\n",
            "- **Museums and Galleries**: Winter is a great time to explore Paris's many indoor attractions, such as the Louvre, Musée d'Orsay, and the Centre Pompidou.\n",
            "\n",
            "Winter in Paris can be quite magical, with fewer tourists and a different kind of charm than the summer months. Just make sure to dress warmly and be prepared for shorter daylight hours. Enjoy your trip!\n"
          ]
        }
      ]
    },
    {
      "cell_type": "markdown",
      "source": [
        "# Summary Memory"
      ],
      "metadata": {
        "id": "hrSUKOPQ_VIU"
      }
    },
    {
      "cell_type": "code",
      "source": [
        "from langchain.memory import ConversationSummaryMemory"
      ],
      "metadata": {
        "id": "fCkh0SaK-61f"
      },
      "execution_count": 123,
      "outputs": []
    },
    {
      "cell_type": "code",
      "source": [
        "conversation = ConversationChain(\n",
        "    llm=llm,\n",
        "    memory=ConversationSummaryMemory(llm=llm),\n",
        "    verbose=True\n",
        ")"
      ],
      "metadata": {
        "id": "PXEteIZ9_czz"
      },
      "execution_count": 124,
      "outputs": []
    },
    {
      "cell_type": "code",
      "source": [
        "print( conversation.predict(input=message_3) )"
      ],
      "metadata": {
        "colab": {
          "base_uri": "https://localhost:8080/"
        },
        "id": "wztp8MI0_eu-",
        "outputId": "dc0cb361-a4de-400d-ce32-515c27d07dd4"
      },
      "execution_count": 125,
      "outputs": [
        {
          "output_type": "stream",
          "name": "stdout",
          "text": [
            "\n",
            "\n",
            "\u001b[1m> Entering new ConversationChain chain...\u001b[0m\n",
            "Prompt after formatting:\n",
            "\u001b[32;1m\u001b[1;3mThe following is a friendly conversation between a human and an AI. The AI is talkative and provides lots of specific details from its context. If the AI does not know the answer to a question, it truthfully says it does not know.\n",
            "\n",
            "Current conversation:\n",
            "\n",
            "Human: Can I visit in winter?\n",
            "AI:\u001b[0m\n",
            "\n",
            "\u001b[1m> Finished chain.\u001b[0m\n",
            "Of course! Winter can be a wonderful time to visit, depending on where you're going. Many places transform into winter wonderlands with activities like skiing, snowboarding, ice skating, and more. Here are a few suggestions:\n",
            "\n",
            "1. **Colorado, USA**: Places like Aspen, Vail, and Breckenridge are famous for their ski resorts and winter sports.\n",
            "2. **Quebec City, Canada**: Known for its Winter Carnival, ice hotel, and old-world charm, it's a great winter destination.\n",
            "3. **Reykjavik, Iceland**: You can enjoy geothermal spas, the Northern Lights, and unique landscapes.\n",
            "4. **Swiss Alps, Switzerland**: Ideal for skiing, snowshoeing, and cozy chalets.\n",
            "5. **Hokkaido, Japan**: Famous for its powder snow, hot springs, and the Sapporo Snow Festival.\n",
            "\n",
            "However, if you're looking for warm weather during the winter, places like Hawaii, the Caribbean, or Southern Hemisphere countries like Australia and New Zealand are great options.\n",
            "\n",
            "To provide the best advice, could you tell me more about the kind of experience you're looking for? Are you interested in winter sports, seeing unique winter landscapes, or escaping the cold altogether?\n"
          ]
        }
      ]
    },
    {
      "cell_type": "code",
      "source": [
        "print( conversation.predict(input=message_2) )"
      ],
      "metadata": {
        "colab": {
          "base_uri": "https://localhost:8080/"
        },
        "id": "EgRcYH19_ujW",
        "outputId": "2911348a-ed55-4265-90f5-13ec96ecfcd8"
      },
      "execution_count": 126,
      "outputs": [
        {
          "output_type": "stream",
          "name": "stdout",
          "text": [
            "\n",
            "\n",
            "\u001b[1m> Entering new ConversationChain chain...\u001b[0m\n",
            "Prompt after formatting:\n",
            "\u001b[32;1m\u001b[1;3mThe following is a friendly conversation between a human and an AI. The AI is talkative and provides lots of specific details from its context. If the AI does not know the answer to a question, it truthfully says it does not know.\n",
            "\n",
            "Current conversation:\n",
            "The human asks if they can visit in winter. The AI confirms, listing various destinations for winter activities like skiing and snowboarding, such as Colorado (USA), Quebec City (Canada), Reykjavik (Iceland), Swiss Alps (Switzerland), and Hokkaido (Japan). The AI also suggests warm-weather options like Hawaii, the Caribbean, or Southern Hemisphere countries. The AI then asks the human to specify their preferred experience, whether it's winter sports, unique winter landscapes, or escaping the cold.\n",
            "Human: Which place has a lake view?\n",
            "AI:\u001b[0m\n",
            "\n",
            "\u001b[1m> Finished chain.\u001b[0m\n",
            "For a spectacular lake view in winter, I'd recommend a few places from the list I mentioned earlier:\n",
            "\n",
            "1. **Quebec City, Canada**: The city is nestled on the Saint Lawrence River, but nearby lies the beautiful Lake Beauport, which offers stunning views and various winter activities like ice fishing and skating.\n",
            "\n",
            "2. **Reykjavik, Iceland**: Although not in Reykjavik itself, the nearby Lake Thingvallavatn in Thingvellir National Park offers breathtaking views, especially with the snowy backdrop. It's about a 45-minute drive from the city.\n",
            "\n",
            "3. **Swiss Alps, Switzerland**: Lake Geneva and Lake Lucerne are both stunning options with panoramic views of the surrounding snow-capped mountains. These spots offer a mix of winter sports and tranquil landscapes.\n",
            "\n",
            "4. **Hokkaido, Japan**: Lake Toya is a popular destination in Hokkaido. During winter, the lake can freeze over, creating a mesmerizing scene with the surrounding volcanic landscape.\n",
            "\n",
            "If you're looking for a warm-weather lake view, consider these destinations:\n",
            "\n",
            "1. **Lake Taupo, New Zealand**: It's the largest lake by surface area in New Zealand and offers beautiful views with a backdrop of volcanic mountains.\n",
            "\n",
            "2. **Lake Tahoe, USA ( straddling California and Nevada)**: While it's not a warm destination in winter, the lake offers stunning views with surrounding snowy peaks and offers winter sports as well.\n",
            "\n",
            "Based on your preference for winter experiences, you can choose the one that suits you best!\n"
          ]
        }
      ]
    },
    {
      "cell_type": "markdown",
      "source": [
        "# Entity Mmory   \n"
      ],
      "metadata": {
        "id": "9LV5etTT_1x9"
      }
    },
    {
      "cell_type": "markdown",
      "source": [
        "### this specify the date or any specific entity"
      ],
      "metadata": {
        "id": "iGp1Sll7_3pY"
      }
    },
    {
      "cell_type": "code",
      "source": [
        "from langchain.memory  import ConversationEntityMemory\n",
        "from langchain.memory.prompt import ENTITY_MEMORY_CONVERSATION_TEMPLATE"
      ],
      "metadata": {
        "id": "Hlx15YOt_3Pz"
      },
      "execution_count": 133,
      "outputs": []
    },
    {
      "cell_type": "code",
      "source": [
        "conversation = ConversationChain(\n",
        "    llm =llm ,\n",
        "    memory = ConversationEntityMemory(llm=llm),\n",
        "    prompt =  ENTITY_MEMORY_CONVERSATION_TEMPLATE,\n",
        "    verbose=True\n",
        "\n",
        ")"
      ],
      "metadata": {
        "id": "bTkDNDL9Ad7X"
      },
      "execution_count": 134,
      "outputs": []
    },
    {
      "cell_type": "code",
      "source": [
        "conversation.predict(input=\"Can you list 3 places in Paris to visit?\")"
      ],
      "metadata": {
        "colab": {
          "base_uri": "https://localhost:8080/",
          "height": 506
        },
        "id": "BURcKXTfAv_Y",
        "outputId": "9a6a1dd2-cc68-4077-db77-d3c1f16c7d98"
      },
      "execution_count": 135,
      "outputs": [
        {
          "output_type": "stream",
          "name": "stdout",
          "text": [
            "\n",
            "\n",
            "\u001b[1m> Entering new ConversationChain chain...\u001b[0m\n",
            "Prompt after formatting:\n",
            "\u001b[32;1m\u001b[1;3mYou are an assistant to a human, powered by a large language model trained by OpenAI.\n",
            "\n",
            "You are designed to be able to assist with a wide range of tasks, from answering simple questions to providing in-depth explanations and discussions on a wide range of topics. As a language model, you are able to generate human-like text based on the input you receive, allowing you to engage in natural-sounding conversations and provide responses that are coherent and relevant to the topic at hand.\n",
            "\n",
            "You are constantly learning and improving, and your capabilities are constantly evolving. You are able to process and understand large amounts of text, and can use this knowledge to provide accurate and informative responses to a wide range of questions. You have access to some personalized information provided by the human in the Context section below. Additionally, you are able to generate your own text based on the input you receive, allowing you to engage in discussions and provide explanations and descriptions on a wide range of topics.\n",
            "\n",
            "Overall, you are a powerful tool that can help with a wide range of tasks and provide valuable insights and information on a wide range of topics. Whether the human needs help with a specific question or just wants to have a conversation about a particular topic, you are here to assist.\n",
            "\n",
            "Context:\n",
            "{'Paris': ''}\n",
            "\n",
            "Current conversation:\n",
            "\n",
            "Last line:\n",
            "Human: Can you list 3 places in Paris to visit?\n",
            "You:\u001b[0m\n",
            "\n",
            "\u001b[1m> Finished chain.\u001b[0m\n"
          ]
        },
        {
          "output_type": "execute_result",
          "data": {
            "text/plain": [
              "\"Absolutely! Here are three must-visit places in Paris:\\n\\n1. **Eiffel Tower**: The most iconic symbol of Paris, the Eiffel Tower offers breathtaking views of the city. You can climb up to different levels, enjoy a meal at one of its restaurants, or simply appreciate its grandeur from the Champ de Mars park below.\\n\\n2. **Louvre Museum**: Home to thousands of works of art, including the Mona Lisa and the Winged Victory, the Louvre is one of the world's largest and most visited museums. It's a treasure trove of art and history.\\n\\n3. **Notre-Dame Cathedral**: Although severely damaged by a fire in 2019, the cathedral remains a significant historical and religious landmark. The surrounding area, including the Seine River and the charming Île de la Cité, is well worth a visit.\\n\\nThese spots offer a mix of history, culture, and iconic Parisian charm. Enjoy your trip!\""
            ],
            "application/vnd.google.colaboratory.intrinsic+json": {
              "type": "string"
            }
          },
          "metadata": {},
          "execution_count": 135
        }
      ]
    },
    {
      "cell_type": "code",
      "source": [
        "print(conversation.predict(input=\"Which one has a lake view?\"))"
      ],
      "metadata": {
        "colab": {
          "base_uri": "https://localhost:8080/"
        },
        "id": "kmp6FKJTB0jP",
        "outputId": "7d4f7d1d-1b55-4a4b-e0f1-36019ac45cdc"
      },
      "execution_count": 136,
      "outputs": [
        {
          "output_type": "stream",
          "name": "stdout",
          "text": [
            "\n",
            "\n",
            "\u001b[1m> Entering new ConversationChain chain...\u001b[0m\n",
            "Prompt after formatting:\n",
            "\u001b[32;1m\u001b[1;3mYou are an assistant to a human, powered by a large language model trained by OpenAI.\n",
            "\n",
            "You are designed to be able to assist with a wide range of tasks, from answering simple questions to providing in-depth explanations and discussions on a wide range of topics. As a language model, you are able to generate human-like text based on the input you receive, allowing you to engage in natural-sounding conversations and provide responses that are coherent and relevant to the topic at hand.\n",
            "\n",
            "You are constantly learning and improving, and your capabilities are constantly evolving. You are able to process and understand large amounts of text, and can use this knowledge to provide accurate and informative responses to a wide range of questions. You have access to some personalized information provided by the human in the Context section below. Additionally, you are able to generate your own text based on the input you receive, allowing you to engage in discussions and provide explanations and descriptions on a wide range of topics.\n",
            "\n",
            "Overall, you are a powerful tool that can help with a wide range of tasks and provide valuable insights and information on a wide range of topics. Whether the human needs help with a specific question or just wants to have a conversation about a particular topic, you are here to assist.\n",
            "\n",
            "Context:\n",
            "{}\n",
            "\n",
            "Current conversation:\n",
            "Human: Can you list 3 places in Paris to visit?\n",
            "AI: Absolutely! Here are three must-visit places in Paris:\n",
            "\n",
            "1. **Eiffel Tower**: The most iconic symbol of Paris, the Eiffel Tower offers breathtaking views of the city. You can climb up to different levels, enjoy a meal at one of its restaurants, or simply appreciate its grandeur from the Champ de Mars park below.\n",
            "\n",
            "2. **Louvre Museum**: Home to thousands of works of art, including the Mona Lisa and the Winged Victory, the Louvre is one of the world's largest and most visited museums. It's a treasure trove of art and history.\n",
            "\n",
            "3. **Notre-Dame Cathedral**: Although severely damaged by a fire in 2019, the cathedral remains a significant historical and religious landmark. The surrounding area, including the Seine River and the charming Île de la Cité, is well worth a visit.\n",
            "\n",
            "These spots offer a mix of history, culture, and iconic Parisian charm. Enjoy your trip!\n",
            "Last line:\n",
            "Human: Which one has a lake view?\n",
            "You:\u001b[0m\n",
            "\n",
            "\u001b[1m> Finished chain.\u001b[0m\n",
            "None of the three places I mentioned—the Eiffel Tower, Louvre Museum, or Notre-Dame Cathedral—are specifically known for a lake view. However, if you're looking for beautiful water views in Paris, you might consider the following:\n",
            "\n",
            "1. **Bois de Boulogne**: This large public park on the western edge of Paris has several lakes where you can enjoy boating and picnicking. It's a great spot for a relaxing day outdoors.\n",
            "\n",
            "2. **Bois de Vincennes**: Located on the eastern edge of Paris, this park also features several lakes and offers a serene environment for walks, bike rides, and other outdoor activities.\n",
            "\n",
            "3. **Canal Saint-Martin**: While not a lake, this scenic canal offers a charming waterfront experience. You can take a leisurely stroll along the banks, enjoy the picturesque bridges, and even take a canal boat tour.\n",
            "\n",
            "These places offer beautiful water views and a peaceful escape within the bustling city of Paris.\n"
          ]
        }
      ]
    },
    {
      "cell_type": "code",
      "source": [
        "from pprint import pprint"
      ],
      "metadata": {
        "id": "aWNiYnssB0Y3"
      },
      "execution_count": 137,
      "outputs": []
    },
    {
      "cell_type": "code",
      "source": [
        "pprint(conversation.memory.entity_store.store)"
      ],
      "metadata": {
        "colab": {
          "base_uri": "https://localhost:8080/"
        },
        "id": "JDWw65X1B0VX",
        "outputId": "2b72c25c-6b54-4ee9-98ed-ff2d55abc256"
      },
      "execution_count": 138,
      "outputs": [
        {
          "output_type": "stream",
          "name": "stdout",
          "text": [
            "{'Paris': 'Paris is a city with notable landmarks such as the Eiffel Tower, '\n",
            "          'Louvre Museum, and Notre-Dame Cathedral.'}\n"
          ]
        }
      ]
    },
    {
      "cell_type": "markdown",
      "source": [
        "# Save to File"
      ],
      "metadata": {
        "id": "ulKq2_QmEmBY"
      }
    },
    {
      "cell_type": "code",
      "source": [
        "conversation = ConversationChain(\n",
        "    llm=llm,\n",
        "    memory=ConversationSummaryMemory(llm=llm),\n",
        "    verbose=True\n",
        ")"
      ],
      "metadata": {
        "id": "UT-lTb4iB0RQ"
      },
      "execution_count": 139,
      "outputs": []
    },
    {
      "cell_type": "code",
      "source": [
        "message_1 = \"Can you list 3 places in Paris to visit?\"\n",
        "message_2 = \"Which place has a lake view?\"\n",
        "\n",
        "output_1 = conversation.predict(input=message_1)\n",
        "output_2 = conversation.predict(input=message_2)"
      ],
      "metadata": {
        "colab": {
          "base_uri": "https://localhost:8080/"
        },
        "id": "1SdJeAg8BZXW",
        "outputId": "a86d89b0-27fa-4d9d-e84d-b6f9b2287d8c"
      },
      "execution_count": 140,
      "outputs": [
        {
          "output_type": "stream",
          "name": "stdout",
          "text": [
            "\n",
            "\n",
            "\u001b[1m> Entering new ConversationChain chain...\u001b[0m\n",
            "Prompt after formatting:\n",
            "\u001b[32;1m\u001b[1;3mThe following is a friendly conversation between a human and an AI. The AI is talkative and provides lots of specific details from its context. If the AI does not know the answer to a question, it truthfully says it does not know.\n",
            "\n",
            "Current conversation:\n",
            "\n",
            "Human: Can you list 3 places in Paris to visit?\n",
            "AI:\u001b[0m\n",
            "\n",
            "\u001b[1m> Finished chain.\u001b[0m\n",
            "\n",
            "\n",
            "\u001b[1m> Entering new ConversationChain chain...\u001b[0m\n",
            "Prompt after formatting:\n",
            "\u001b[32;1m\u001b[1;3mThe following is a friendly conversation between a human and an AI. The AI is talkative and provides lots of specific details from its context. If the AI does not know the answer to a question, it truthfully says it does not know.\n",
            "\n",
            "Current conversation:\n",
            "The human asks the AI to list three places to visit in Paris. The AI suggests the Eiffel Tower for its iconic structure and views, the Louvre Museum for its extensive art collection and historic significance, and the Notre-Dame Cathedral for its French Gothic architecture and historic importance, despite recent fire damage. The AI also mentions other notable places like the Montmartre neighborhood and the Palace of Versailles.\n",
            "Human: Which place has a lake view?\n",
            "AI:\u001b[0m\n",
            "\n",
            "\u001b[1m> Finished chain.\u001b[0m\n"
          ]
        }
      ]
    },
    {
      "cell_type": "code",
      "source": [
        "import json"
      ],
      "metadata": {
        "id": "32yLl8elGSxJ"
      },
      "execution_count": 147,
      "outputs": []
    },
    {
      "cell_type": "code",
      "source": [
        "from langchain.schema import messages_to_dict, messages_from_dict"
      ],
      "metadata": {
        "id": "hZQZPO-kBaDU"
      },
      "execution_count": 142,
      "outputs": []
    },
    {
      "cell_type": "code",
      "source": [
        "dicts = messages_to_dict(conversation.memory.chat_memory.messages)"
      ],
      "metadata": {
        "id": "SIoIAva7F1lS"
      },
      "execution_count": 148,
      "outputs": []
    },
    {
      "cell_type": "code",
      "source": [
        "dicts"
      ],
      "metadata": {
        "colab": {
          "base_uri": "https://localhost:8080/"
        },
        "id": "uEQw9AnwGdU2",
        "outputId": "ead8b91f-9d06-427d-d06e-29ce39000282"
      },
      "execution_count": 149,
      "outputs": [
        {
          "output_type": "execute_result",
          "data": {
            "text/plain": [
              "[{'type': 'human',\n",
              "  'data': {'content': 'Can you list 3 places in Paris to visit?',\n",
              "   'additional_kwargs': {},\n",
              "   'response_metadata': {},\n",
              "   'type': 'human',\n",
              "   'name': None,\n",
              "   'id': None,\n",
              "   'example': False}},\n",
              " {'type': 'ai',\n",
              "  'data': {'content': \"Absolutely, Paris is a city rich in history, art, and culture. Here are three iconic places you might want to visit:\\n\\n1. **Eiffel Tower**: This is undoubtedly one of the most recognizable structures in the world. Completed in 1889, it was the world's tallest human-made structure until the completion of the Chrysler Building in New York in 1930. You can climb to the top for a breathtaking view of Paris, dine in one of its restaurants, or simply enjoy a picnic at the Champ de Mars.\\n\\n2. **Louvre Museum**: Home to thousands of works of art, including the Mona Lisa and the Winged Victory, the Louvre is a must-visit for art lovers. The museum itself is a historic monument, housed in a former royal palace. Don't miss the modern glass pyramid in the courtyard, designed by I.M. Pei.\\n\\n3. **Notre-Dame Cathedral**: Although severely damaged by a fire in 2019, the cathedral remains an iconic symbol of French Gothic architecture. Restoration work is underway, but visitors can still appreciate the exterior architecture and the surrounding area, known as Île de la Cité, which is the historic heart of Paris.\\n\\nOther notable places include the Montmartre neighborhood, known for the Sacré-Cœur Basilica and its vibrant art scene, and the Palace of Versailles, which is a short train ride away from Paris and offers a glimpse into the opulence of French royalty.\",\n",
              "   'additional_kwargs': {},\n",
              "   'response_metadata': {},\n",
              "   'type': 'ai',\n",
              "   'name': None,\n",
              "   'id': None,\n",
              "   'example': False,\n",
              "   'tool_calls': [],\n",
              "   'invalid_tool_calls': [],\n",
              "   'usage_metadata': None}},\n",
              " {'type': 'human',\n",
              "  'data': {'content': 'Which place has a lake view?',\n",
              "   'additional_kwargs': {},\n",
              "   'response_metadata': {},\n",
              "   'type': 'human',\n",
              "   'name': None,\n",
              "   'id': None,\n",
              "   'example': False}},\n",
              " {'type': 'ai',\n",
              "  'data': {'content': 'Among the places I mentioned, the Palace of Versailles has a lake view. The gardens of the Palace of Versailles feature several beautiful ponds and a grand canal, which is a large lake offering stunning views, especially when seen from the palace or while strolling through the gardens. The other locations—the Eiffel Tower, the Louvre Museum, the Notre-Dame Cathedral, and the Montmartre neighborhood—do not have lake views. However, the Eiffel Tower does offer a view of the Seine River, which is quite scenic.',\n",
              "   'additional_kwargs': {},\n",
              "   'response_metadata': {},\n",
              "   'type': 'ai',\n",
              "   'name': None,\n",
              "   'id': None,\n",
              "   'example': False,\n",
              "   'tool_calls': [],\n",
              "   'invalid_tool_calls': [],\n",
              "   'usage_metadata': None}}]"
            ]
          },
          "metadata": {},
          "execution_count": 149
        }
      ]
    },
    {
      "cell_type": "code",
      "source": [
        "with open(\"/content/memory.json\",\"w\") as f:\n",
        "    f.write(str(dicts))"
      ],
      "metadata": {
        "id": "rhExik3WGBQy"
      },
      "execution_count": 166,
      "outputs": []
    },
    {
      "cell_type": "code",
      "source": [
        "json.dumps(dicts,ensure_ascii=False)"
      ],
      "metadata": {
        "colab": {
          "base_uri": "https://localhost:8080/",
          "height": 278
        },
        "id": "w8Rcqw4IGipC",
        "outputId": "dcbae2c5-2eb9-4a5d-99f0-8d88e0203240"
      },
      "execution_count": 164,
      "outputs": [
        {
          "output_type": "execute_result",
          "data": {
            "text/plain": [
              "'[{\"type\": \"human\", \"data\": {\"content\": \"Can you list 3 places in Paris to visit?\", \"additional_kwargs\": {}, \"response_metadata\": {}, \"type\": \"human\", \"name\": null, \"id\": null, \"example\": false}}, {\"type\": \"ai\", \"data\": {\"content\": \"Absolutely, Paris is a city rich in history, art, and culture. Here are three iconic places you might want to visit:\\\\n\\\\n1. **Eiffel Tower**: This is undoubtedly one of the most recognizable structures in the world. Completed in 1889, it was the world\\'s tallest human-made structure until the completion of the Chrysler Building in New York in 1930. You can climb to the top for a breathtaking view of Paris, dine in one of its restaurants, or simply enjoy a picnic at the Champ de Mars.\\\\n\\\\n2. **Louvre Museum**: Home to thousands of works of art, including the Mona Lisa and the Winged Victory, the Louvre is a must-visit for art lovers. The museum itself is a historic monument, housed in a former royal palace. Don\\'t miss the modern glass pyramid in the courtyard, designed by I.M. Pei.\\\\n\\\\n3. **Notre-Dame Cathedral**: Although severely damaged by a fire in 2019, the cathedral remains an iconic symbol of French Gothic architecture. Restoration work is underway, but visitors can still appreciate the exterior architecture and the surrounding area, known as Île de la Cité, which is the historic heart of Paris.\\\\n\\\\nOther notable places include the Montmartre neighborhood, known for the Sacré-Cœur Basilica and its vibrant art scene, and the Palace of Versailles, which is a short train ride away from Paris and offers a glimpse into the opulence of French royalty.\", \"additional_kwargs\": {}, \"response_metadata\": {}, \"type\": \"ai\", \"name\": null, \"id\": null, \"example\": false, \"tool_calls\": [], \"invalid_tool_calls\": [], \"usage_metadata\": null}}, {\"type\": \"human\", \"data\": {\"content\": \"Which place has a lake view?\", \"additional_kwargs\": {}, \"response_metadata\": {}, \"type\": \"human\", \"name\": null, \"id\": null, \"example\": false}}, {\"type\": \"ai\", \"data\": {\"content\": \"Among the places I mentioned, the Palace of Versailles has a lake view. The gardens of the Palace of Versailles feature several beautiful ponds and a grand canal, which is a large lake offering stunning views, especially when seen from the palace or while strolling through the gardens. The other locations—the Eiffel Tower, the Louvre Museum, the Notre-Dame Cathedral, and the Montmartre neighborhood—do not have lake views. However, the Eiffel Tower does offer a view of the Seine River, which is quite scenic.\", \"additional_kwargs\": {}, \"response_metadata\": {}, \"type\": \"ai\", \"name\": null, \"id\": null, \"example\": false, \"tool_calls\": [], \"invalid_tool_calls\": [], \"usage_metadata\": null}}]'"
            ],
            "application/vnd.google.colaboratory.intrinsic+json": {
              "type": "string"
            }
          },
          "metadata": {},
          "execution_count": 164
        }
      ]
    },
    {
      "cell_type": "code",
      "source": [
        "with open(\"/content/memory.json\",\"w\") as f:\n",
        "  f.write(json.dumps(dicts,ensure_ascii=False))"
      ],
      "metadata": {
        "id": "OnEMQHxWGJRp"
      },
      "execution_count": 165,
      "outputs": []
    },
    {
      "cell_type": "code",
      "source": [
        "with open(\"/content/memory.json\",\"w\") as f:\n",
        "    f.write(json.dumps(messages_to_dict(conversation.memory.chat_memory.messages)))"
      ],
      "metadata": {
        "id": "FDO8YCmDBZQd"
      },
      "execution_count": 152,
      "outputs": []
    },
    {
      "cell_type": "code",
      "source": [
        "conversation.memory.chat_memory.messages"
      ],
      "metadata": {
        "colab": {
          "base_uri": "https://localhost:8080/"
        },
        "id": "FmozSDMrBcPg",
        "outputId": "b9cb217e-e9d3-492f-c1d3-e61b94a05ee7"
      },
      "execution_count": 154,
      "outputs": [
        {
          "output_type": "execute_result",
          "data": {
            "text/plain": [
              "[HumanMessage(content='Can you list 3 places in Paris to visit?', additional_kwargs={}, response_metadata={}),\n",
              " AIMessage(content=\"Absolutely, Paris is a city rich in history, art, and culture. Here are three iconic places you might want to visit:\\n\\n1. **Eiffel Tower**: This is undoubtedly one of the most recognizable structures in the world. Completed in 1889, it was the world's tallest human-made structure until the completion of the Chrysler Building in New York in 1930. You can climb to the top for a breathtaking view of Paris, dine in one of its restaurants, or simply enjoy a picnic at the Champ de Mars.\\n\\n2. **Louvre Museum**: Home to thousands of works of art, including the Mona Lisa and the Winged Victory, the Louvre is a must-visit for art lovers. The museum itself is a historic monument, housed in a former royal palace. Don't miss the modern glass pyramid in the courtyard, designed by I.M. Pei.\\n\\n3. **Notre-Dame Cathedral**: Although severely damaged by a fire in 2019, the cathedral remains an iconic symbol of French Gothic architecture. Restoration work is underway, but visitors can still appreciate the exterior architecture and the surrounding area, known as Île de la Cité, which is the historic heart of Paris.\\n\\nOther notable places include the Montmartre neighborhood, known for the Sacré-Cœur Basilica and its vibrant art scene, and the Palace of Versailles, which is a short train ride away from Paris and offers a glimpse into the opulence of French royalty.\", additional_kwargs={}, response_metadata={}),\n",
              " HumanMessage(content='Which place has a lake view?', additional_kwargs={}, response_metadata={}),\n",
              " AIMessage(content='Among the places I mentioned, the Palace of Versailles has a lake view. The gardens of the Palace of Versailles feature several beautiful ponds and a grand canal, which is a large lake offering stunning views, especially when seen from the palace or while strolling through the gardens. The other locations—the Eiffel Tower, the Louvre Museum, the Notre-Dame Cathedral, and the Montmartre neighborhood—do not have lake views. However, the Eiffel Tower does offer a view of the Seine River, which is quite scenic.', additional_kwargs={}, response_metadata={})]"
            ]
          },
          "metadata": {},
          "execution_count": 154
        }
      ]
    },
    {
      "cell_type": "markdown",
      "source": [
        "#load"
      ],
      "metadata": {
        "id": "qvEu_A0NHpLX"
      }
    },
    {
      "cell_type": "code",
      "source": [
        "with open(\"/content/memory.json\") as r:\n",
        "\n",
        "  saved_history = json.loads(r.read())"
      ],
      "metadata": {
        "colab": {
          "base_uri": "https://localhost:8080/",
          "height": 321
        },
        "id": "87RuaTkqBZGI",
        "outputId": "aea6810a-e253-4442-f260-3dd54dc62941"
      },
      "execution_count": 175,
      "outputs": [
        {
          "output_type": "error",
          "ename": "JSONDecodeError",
          "evalue": "Expecting property name enclosed in double quotes: line 1 column 3 (char 2)",
          "traceback": [
            "\u001b[0;31m---------------------------------------------------------------------------\u001b[0m",
            "\u001b[0;31mJSONDecodeError\u001b[0m                           Traceback (most recent call last)",
            "\u001b[0;32m<ipython-input-175-e7fc4389c1ab>\u001b[0m in \u001b[0;36m<cell line: 0>\u001b[0;34m()\u001b[0m\n\u001b[1;32m      1\u001b[0m \u001b[0;32mwith\u001b[0m \u001b[0mopen\u001b[0m\u001b[0;34m(\u001b[0m\u001b[0;34m\"/content/memory.json\"\u001b[0m\u001b[0;34m)\u001b[0m \u001b[0;32mas\u001b[0m \u001b[0mr\u001b[0m\u001b[0;34m:\u001b[0m\u001b[0;34m\u001b[0m\u001b[0;34m\u001b[0m\u001b[0m\n\u001b[1;32m      2\u001b[0m \u001b[0;34m\u001b[0m\u001b[0m\n\u001b[0;32m----> 3\u001b[0;31m   \u001b[0msaved_history\u001b[0m \u001b[0;34m=\u001b[0m \u001b[0mjson\u001b[0m\u001b[0;34m.\u001b[0m\u001b[0mloads\u001b[0m\u001b[0;34m(\u001b[0m\u001b[0mr\u001b[0m\u001b[0;34m.\u001b[0m\u001b[0mread\u001b[0m\u001b[0;34m(\u001b[0m\u001b[0;34m)\u001b[0m\u001b[0;34m)\u001b[0m\u001b[0;34m\u001b[0m\u001b[0;34m\u001b[0m\u001b[0m\n\u001b[0m",
            "\u001b[0;32m/usr/lib/python3.11/json/__init__.py\u001b[0m in \u001b[0;36mloads\u001b[0;34m(s, cls, object_hook, parse_float, parse_int, parse_constant, object_pairs_hook, **kw)\u001b[0m\n\u001b[1;32m    344\u001b[0m             \u001b[0mparse_int\u001b[0m \u001b[0;32mis\u001b[0m \u001b[0;32mNone\u001b[0m \u001b[0;32mand\u001b[0m \u001b[0mparse_float\u001b[0m \u001b[0;32mis\u001b[0m \u001b[0;32mNone\u001b[0m \u001b[0;32mand\u001b[0m\u001b[0;34m\u001b[0m\u001b[0;34m\u001b[0m\u001b[0m\n\u001b[1;32m    345\u001b[0m             parse_constant is None and object_pairs_hook is None and not kw):\n\u001b[0;32m--> 346\u001b[0;31m         \u001b[0;32mreturn\u001b[0m \u001b[0m_default_decoder\u001b[0m\u001b[0;34m.\u001b[0m\u001b[0mdecode\u001b[0m\u001b[0;34m(\u001b[0m\u001b[0ms\u001b[0m\u001b[0;34m)\u001b[0m\u001b[0;34m\u001b[0m\u001b[0;34m\u001b[0m\u001b[0m\n\u001b[0m\u001b[1;32m    347\u001b[0m     \u001b[0;32mif\u001b[0m \u001b[0mcls\u001b[0m \u001b[0;32mis\u001b[0m \u001b[0;32mNone\u001b[0m\u001b[0;34m:\u001b[0m\u001b[0;34m\u001b[0m\u001b[0;34m\u001b[0m\u001b[0m\n\u001b[1;32m    348\u001b[0m         \u001b[0mcls\u001b[0m \u001b[0;34m=\u001b[0m \u001b[0mJSONDecoder\u001b[0m\u001b[0;34m\u001b[0m\u001b[0;34m\u001b[0m\u001b[0m\n",
            "\u001b[0;32m/usr/lib/python3.11/json/decoder.py\u001b[0m in \u001b[0;36mdecode\u001b[0;34m(self, s, _w)\u001b[0m\n\u001b[1;32m    335\u001b[0m \u001b[0;34m\u001b[0m\u001b[0m\n\u001b[1;32m    336\u001b[0m         \"\"\"\n\u001b[0;32m--> 337\u001b[0;31m         \u001b[0mobj\u001b[0m\u001b[0;34m,\u001b[0m \u001b[0mend\u001b[0m \u001b[0;34m=\u001b[0m \u001b[0mself\u001b[0m\u001b[0;34m.\u001b[0m\u001b[0mraw_decode\u001b[0m\u001b[0;34m(\u001b[0m\u001b[0ms\u001b[0m\u001b[0;34m,\u001b[0m \u001b[0midx\u001b[0m\u001b[0;34m=\u001b[0m\u001b[0m_w\u001b[0m\u001b[0;34m(\u001b[0m\u001b[0ms\u001b[0m\u001b[0;34m,\u001b[0m \u001b[0;36m0\u001b[0m\u001b[0;34m)\u001b[0m\u001b[0;34m.\u001b[0m\u001b[0mend\u001b[0m\u001b[0;34m(\u001b[0m\u001b[0;34m)\u001b[0m\u001b[0;34m)\u001b[0m\u001b[0;34m\u001b[0m\u001b[0;34m\u001b[0m\u001b[0m\n\u001b[0m\u001b[1;32m    338\u001b[0m         \u001b[0mend\u001b[0m \u001b[0;34m=\u001b[0m \u001b[0m_w\u001b[0m\u001b[0;34m(\u001b[0m\u001b[0ms\u001b[0m\u001b[0;34m,\u001b[0m \u001b[0mend\u001b[0m\u001b[0;34m)\u001b[0m\u001b[0;34m.\u001b[0m\u001b[0mend\u001b[0m\u001b[0;34m(\u001b[0m\u001b[0;34m)\u001b[0m\u001b[0;34m\u001b[0m\u001b[0;34m\u001b[0m\u001b[0m\n\u001b[1;32m    339\u001b[0m         \u001b[0;32mif\u001b[0m \u001b[0mend\u001b[0m \u001b[0;34m!=\u001b[0m \u001b[0mlen\u001b[0m\u001b[0;34m(\u001b[0m\u001b[0ms\u001b[0m\u001b[0;34m)\u001b[0m\u001b[0;34m:\u001b[0m\u001b[0;34m\u001b[0m\u001b[0;34m\u001b[0m\u001b[0m\n",
            "\u001b[0;32m/usr/lib/python3.11/json/decoder.py\u001b[0m in \u001b[0;36mraw_decode\u001b[0;34m(self, s, idx)\u001b[0m\n\u001b[1;32m    351\u001b[0m         \"\"\"\n\u001b[1;32m    352\u001b[0m         \u001b[0;32mtry\u001b[0m\u001b[0;34m:\u001b[0m\u001b[0;34m\u001b[0m\u001b[0;34m\u001b[0m\u001b[0m\n\u001b[0;32m--> 353\u001b[0;31m             \u001b[0mobj\u001b[0m\u001b[0;34m,\u001b[0m \u001b[0mend\u001b[0m \u001b[0;34m=\u001b[0m \u001b[0mself\u001b[0m\u001b[0;34m.\u001b[0m\u001b[0mscan_once\u001b[0m\u001b[0;34m(\u001b[0m\u001b[0ms\u001b[0m\u001b[0;34m,\u001b[0m \u001b[0midx\u001b[0m\u001b[0;34m)\u001b[0m\u001b[0;34m\u001b[0m\u001b[0;34m\u001b[0m\u001b[0m\n\u001b[0m\u001b[1;32m    354\u001b[0m         \u001b[0;32mexcept\u001b[0m \u001b[0mStopIteration\u001b[0m \u001b[0;32mas\u001b[0m \u001b[0merr\u001b[0m\u001b[0;34m:\u001b[0m\u001b[0;34m\u001b[0m\u001b[0;34m\u001b[0m\u001b[0m\n\u001b[1;32m    355\u001b[0m             \u001b[0;32mraise\u001b[0m \u001b[0mJSONDecodeError\u001b[0m\u001b[0;34m(\u001b[0m\u001b[0;34m\"Expecting value\"\u001b[0m\u001b[0;34m,\u001b[0m \u001b[0ms\u001b[0m\u001b[0;34m,\u001b[0m \u001b[0merr\u001b[0m\u001b[0;34m.\u001b[0m\u001b[0mvalue\u001b[0m\u001b[0;34m)\u001b[0m \u001b[0;32mfrom\u001b[0m \u001b[0;32mNone\u001b[0m\u001b[0;34m\u001b[0m\u001b[0;34m\u001b[0m\u001b[0m\n",
            "\u001b[0;31mJSONDecodeError\u001b[0m: Expecting property name enclosed in double quotes: line 1 column 3 (char 2)"
          ]
        }
      ]
    },
    {
      "cell_type": "code",
      "source": [
        "saved_history"
      ],
      "metadata": {
        "colab": {
          "base_uri": "https://localhost:8080/"
        },
        "id": "cGjEUH43BYw6",
        "outputId": "1c06ce62-ae5d-4877-db51-8df873e3b103"
      },
      "execution_count": 176,
      "outputs": [
        {
          "output_type": "execute_result",
          "data": {
            "text/plain": [
              "[{'type': 'human',\n",
              "  'data': {'content': 'Can you list 3 places in Paris to visit?',\n",
              "   'additional_kwargs': {},\n",
              "   'response_metadata': {},\n",
              "   'type': 'human',\n",
              "   'name': None,\n",
              "   'id': None,\n",
              "   'example': False}},\n",
              " {'type': 'ai',\n",
              "  'data': {'content': \"Absolutely, Paris is a city rich in history, art, and culture. Here are three iconic places you might want to visit:\\n\\n1. **Eiffel Tower**: This is undoubtedly one of the most recognizable structures in the world. Completed in 1889, it was the world's tallest human-made structure until the completion of the Chrysler Building in New York in 1930. You can climb to the top for a breathtaking view of Paris, dine in one of its restaurants, or simply enjoy a picnic at the Champ de Mars.\\n\\n2. **Louvre Museum**: Home to thousands of works of art, including the Mona Lisa and the Winged Victory, the Louvre is a must-visit for art lovers. The museum itself is a historic monument, housed in a former royal palace. Don't miss the modern glass pyramid in the courtyard, designed by I.M. Pei.\\n\\n3. **Notre-Dame Cathedral**: Although severely damaged by a fire in 2019, the cathedral remains an iconic symbol of French Gothic architecture. Restoration work is underway, but visitors can still appreciate the exterior architecture and the surrounding area, known as Île de la Cité, which is the historic heart of Paris.\\n\\nOther notable places include the Montmartre neighborhood, known for the Sacré-Cœur Basilica and its vibrant art scene, and the Palace of Versailles, which is a short train ride away from Paris and offers a glimpse into the opulence of French royalty.\",\n",
              "   'additional_kwargs': {},\n",
              "   'response_metadata': {},\n",
              "   'type': 'ai',\n",
              "   'name': None,\n",
              "   'id': None,\n",
              "   'example': False,\n",
              "   'tool_calls': [],\n",
              "   'invalid_tool_calls': [],\n",
              "   'usage_metadata': None}},\n",
              " {'type': 'human',\n",
              "  'data': {'content': 'Which place has a lake view?',\n",
              "   'additional_kwargs': {},\n",
              "   'response_metadata': {},\n",
              "   'type': 'human',\n",
              "   'name': None,\n",
              "   'id': None,\n",
              "   'example': False}},\n",
              " {'type': 'ai',\n",
              "  'data': {'content': 'Among the places I mentioned, the Palace of Versailles has a lake view. The gardens of the Palace of Versailles feature several beautiful ponds and a grand canal, which is a large lake offering stunning views, especially when seen from the palace or while strolling through the gardens. The other locations—the Eiffel Tower, the Louvre Museum, the Notre-Dame Cathedral, and the Montmartre neighborhood—do not have lake views. However, the Eiffel Tower does offer a view of the Seine River, which is quite scenic.',\n",
              "   'additional_kwargs': {},\n",
              "   'response_metadata': {},\n",
              "   'type': 'ai',\n",
              "   'name': None,\n",
              "   'id': None,\n",
              "   'example': False,\n",
              "   'tool_calls': [],\n",
              "   'invalid_tool_calls': [],\n",
              "   'usage_metadata': None}}]"
            ]
          },
          "metadata": {},
          "execution_count": 176
        }
      ]
    },
    {
      "cell_type": "markdown",
      "source": [
        "### Action\t   <<<<<<<<<<<<<<<<<<<<<<<<<<<<                   Method\n",
        "### Python dict → JSON string\t   <<<<<<<<<<<<  json.dumps()\n",
        "### JSON string → Python dict\t    <<<<<<<<<<< json.loads()"
      ],
      "metadata": {
        "id": "TvEWVH_0NES8"
      }
    },
    {
      "cell_type": "code",
      "source": [
        "! pip install -U langchain-communit -q"
      ],
      "metadata": {
        "id": "W-BB1_UvKRW9"
      },
      "execution_count": null,
      "outputs": []
    },
    {
      "cell_type": "code",
      "source": [
        "from langchain.memory import ChatMessageHistory"
      ],
      "metadata": {
        "id": "5nBejvVpJ_oM"
      },
      "execution_count": 183,
      "outputs": []
    },
    {
      "cell_type": "code",
      "source": [
        "hsitory = ChatMessageHistory()\n",
        "hsitory.messages = messages_from_dict(saved_history)"
      ],
      "metadata": {
        "id": "Dz-gxX9eBYt6"
      },
      "execution_count": 185,
      "outputs": []
    },
    {
      "cell_type": "code",
      "source": [
        "memory = ConversationSummaryMemory(llm=llm)\n",
        "memory = memory.from_messages(chat_memory=hsitory, llm=llm)"
      ],
      "metadata": {
        "id": "T5fr70RJBYpc"
      },
      "execution_count": 186,
      "outputs": []
    },
    {
      "cell_type": "code",
      "source": [
        "conversation = ConversationChain(\n",
        "    llm=llm,\n",
        "    memory=memory,\n",
        "    verbose=True\n",
        ")"
      ],
      "metadata": {
        "id": "VKy2KQVuBYew"
      },
      "execution_count": 187,
      "outputs": []
    },
    {
      "cell_type": "code",
      "source": [
        "message_3 = \"Can I visit in winter?\"\n",
        "\n",
        "print( conversation.predict(input=message_3) )"
      ],
      "metadata": {
        "colab": {
          "base_uri": "https://localhost:8080/"
        },
        "id": "OzXZ2bJLLg7_",
        "outputId": "ac419c43-a010-4227-b0d2-7773dc3d0e8b"
      },
      "execution_count": 188,
      "outputs": [
        {
          "output_type": "stream",
          "name": "stdout",
          "text": [
            "\n",
            "\n",
            "\u001b[1m> Entering new ConversationChain chain...\u001b[0m\n",
            "Prompt after formatting:\n",
            "\u001b[32;1m\u001b[1;3mThe following is a friendly conversation between a human and an AI. The AI is talkative and provides lots of specific details from its context. If the AI does not know the answer to a question, it truthfully says it does not know.\n",
            "\n",
            "Current conversation:\n",
            "The human asks the AI for a list of three places in Paris worth visiting. The AI recommends:\n",
            "\n",
            "1. **Eiffel Tower**: A globally recognized structure offering panoramic views of Paris.\n",
            "2. **Louvre Museum**: A historic monument housing thousands of artworks, including the Mona Lisa.\n",
            "3. **Notre-Dame Cathedral**: A symbol of French Gothic architecture, currently under restoration after a fire in 2019.\n",
            "\n",
            "The AI also mentions other notable places such as the Montmartre neighborhood and the Palace of Versailles. The human then asks which place has a lake view. The AI clarifies that among the mentioned places, the Palace of Versailles has a lake view, featuring several beautiful ponds and a grand canal. The other locations do not have lake views, but the Eiffel Tower offers a scenic view of the Seine River.\n",
            "Human: Can I visit in winter?\n",
            "AI:\u001b[0m\n",
            "\n",
            "\u001b[1m> Finished chain.\u001b[0m\n",
            "Absolutely, you can visit Paris in the winter, and it has its own unique charm during this season! Here are a few things to consider:\n",
            "\n",
            "### Weather\n",
            "Winter in Paris typically runs from December to February. The weather can be chilly with temperatures averaging around 40°F (4°C) to 45°F (7°C). Snow is possible but not very common. You'll want to bundle up with warm clothes, gloves, and a hat.\n",
            "\n",
            "### Attractions\n",
            "1. **Eiffel Tower**: It's open year-round, and seeing it under a coat of snow (if you're lucky) can be quite magical. Just be prepared for cold winds at the top.\n",
            "2. **Louvre Museum**: Perfect for a winter visit as it’s indoors. You can spend hours exploring the vast collection without worrying about the weather outside.\n",
            "3. **Notre-Dame Cathedral**: The cathedral itself might be under restoration, but the surrounding area is still worth a visit, especially with fewer tourists in winter.\n",
            "\n",
            "### Festive Season\n",
            "If you visit around Christmas and New Year's, Paris is beautifully decorated with lights, Christmas markets, and festive events. Here are a few notable wintery spots:\n",
            "- **Christmas Markets**: Several Christmas markets pop up around the city, offering holiday treats, gifts, and a festive atmosphere.\n",
            "- **Ice Skating**: There are often ice skating rinks set up in various places, including in front of the Hotel de Ville.\n",
            "- **Champs-Élysées**: The avenue is stunningly lit up with Christmas lights, making it a great place for a winter stroll.\n",
            "\n",
            "### Indoor Activities\n",
            "- **Museums and Galleries**: Paris is home to numerous museums and galleries that are perfect for indoor activities.\n",
            "- **Cafes and Bistros**: Enjoying a warm cup of coffee or a hearty meal in a cozy Parisian cafe or bistro can be a delightful winter experience.\n",
            "\n",
            "Overall, winter in Paris can be a wonderful time to visit, especially if you enjoy the festive season and cozy indoor activities. Just remember to dress warmly and be prepared for the occasional rain or snow!\n"
          ]
        }
      ]
    },
    {
      "cell_type": "code",
      "source": [],
      "metadata": {
        "id": "COo3bbndLg4U"
      },
      "execution_count": null,
      "outputs": []
    },
    {
      "cell_type": "code",
      "source": [],
      "metadata": {
        "id": "yf8rS3ZRLgzk"
      },
      "execution_count": null,
      "outputs": []
    },
    {
      "cell_type": "code",
      "source": [],
      "metadata": {
        "id": "5xBoMHEiLgvh"
      },
      "execution_count": null,
      "outputs": []
    },
    {
      "cell_type": "code",
      "source": [],
      "metadata": {
        "id": "d0iSGw-rLgr5"
      },
      "execution_count": null,
      "outputs": []
    },
    {
      "cell_type": "code",
      "source": [],
      "metadata": {
        "id": "aUGVZC1zLgjK"
      },
      "execution_count": null,
      "outputs": []
    }
  ]
}