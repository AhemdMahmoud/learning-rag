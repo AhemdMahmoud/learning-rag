{
  "nbformat": 4,
  "nbformat_minor": 0,
  "metadata": {
    "colab": {
      "provenance": []
    },
    "kernelspec": {
      "name": "python3",
      "display_name": "Python 3"
    },
    "language_info": {
      "name": "python"
    }
  },
  "cells": [
    {
      "cell_type": "markdown",
      "source": [
        "# Documents Splitting"
      ],
      "metadata": {
        "id": "_cbhkfthRX6m"
      }
    },
    {
      "cell_type": "code",
      "execution_count": null,
      "metadata": {
        "id": "UpaByw-_REWS"
      },
      "outputs": [],
      "source": [
        "from langchain.text_splitter import RecursiveCharacterTextSplitter\n"
      ]
    },
    {
      "cell_type": "code",
      "source": [
        "text_splitter = RecursiveCharacterTextSplitter(\n",
        "    chunk_size = 20,\n",
        "    chunk_overlap = 5,\n",
        "\n",
        ")\n",
        "text1 = \"هذا نص طويل يحتوي على عدة فقرات. نريد تقسيمه إلى أجزاء صغيرة.\"\n"
      ],
      "metadata": {
        "id": "_3N7Qg2SRpXC"
      },
      "execution_count": null,
      "outputs": []
    },
    {
      "cell_type": "code",
      "source": [
        "text_splitter.split_text(text1)"
      ],
      "metadata": {
        "colab": {
          "base_uri": "https://localhost:8080/"
        },
        "id": "SgsakYOOSIA0",
        "outputId": "3c9ceece-5bfb-4bb3-acc9-f331acf7b25e"
      },
      "execution_count": null,
      "outputs": [
        {
          "output_type": "execute_result",
          "data": {
            "text/plain": [
              "['هذا نص طويل يحتوي',\n",
              " 'على عدة فقرات. نريد',\n",
              " 'نريد تقسيمه إلى',\n",
              " 'إلى أجزاء صغيرة.']"
            ]
          },
          "metadata": {},
          "execution_count": 14
        }
      ]
    },
    {
      "cell_type": "code",
      "source": [
        "docs = text_splitter.create_documents([\"هذا نص طويل يحتوي على عدة فقرات. نريد تقسيمه إلى أجزاء صغيرة.\"])\n",
        "for doc in docs:\n",
        "    print(doc.page_content)"
      ],
      "metadata": {
        "colab": {
          "base_uri": "https://localhost:8080/"
        },
        "id": "0Bu6jbACTjjn",
        "outputId": "42526ed8-fd96-401f-9bf4-f4d1273a1946"
      },
      "execution_count": null,
      "outputs": [
        {
          "output_type": "stream",
          "name": "stdout",
          "text": [
            "هذا نص طويل يحتوي\n",
            "على عدة فقرات. نريد\n",
            "نريد تقسيمه إلى\n",
            "إلى أجزاء صغيرة.\n"
          ]
        }
      ]
    },
    {
      "cell_type": "markdown",
      "source": [
        "# ✅ 2. CharacterTextSplitter"
      ],
      "metadata": {
        "id": "__VJC5eRSzP6"
      }
    },
    {
      "cell_type": "code",
      "source": [
        "from langchain.text_splitter import CharacterTextSplitter"
      ],
      "metadata": {
        "id": "_Gp6SqnDSVrD"
      },
      "execution_count": null,
      "outputs": []
    },
    {
      "cell_type": "code",
      "source": [
        "text_splitter_2= CharacterTextSplitter(\n",
        "    separator = \"\\n\",\n",
        "    chunk_size = 7,\n",
        "    chunk_overlap = 0,\n",
        "    length_function = len,\n",
        ")"
      ],
      "metadata": {
        "id": "PYrdGHd8S9_r"
      },
      "execution_count": null,
      "outputs": []
    },
    {
      "cell_type": "code",
      "source": [
        "text= \"فقرة 1\\nفقرة 2\\nفقرة 3\\n\""
      ],
      "metadata": {
        "id": "ZQ54AK-QTHi5"
      },
      "execution_count": null,
      "outputs": []
    },
    {
      "cell_type": "code",
      "source": [
        "text_splitter_2.create_documents(text)"
      ],
      "metadata": {
        "colab": {
          "base_uri": "https://localhost:8080/"
        },
        "id": "dto0KdiMTJog",
        "outputId": "465dd3e0-de0b-49dc-b4b9-545c4c61710f"
      },
      "execution_count": null,
      "outputs": [
        {
          "output_type": "execute_result",
          "data": {
            "text/plain": [
              "[Document(metadata={}, page_content='ف'),\n",
              " Document(metadata={}, page_content='ق'),\n",
              " Document(metadata={}, page_content='ر'),\n",
              " Document(metadata={}, page_content='ة'),\n",
              " Document(metadata={}, page_content='1'),\n",
              " Document(metadata={}, page_content='ف'),\n",
              " Document(metadata={}, page_content='ق'),\n",
              " Document(metadata={}, page_content='ر'),\n",
              " Document(metadata={}, page_content='ة'),\n",
              " Document(metadata={}, page_content='2'),\n",
              " Document(metadata={}, page_content='ف'),\n",
              " Document(metadata={}, page_content='ق'),\n",
              " Document(metadata={}, page_content='ر'),\n",
              " Document(metadata={}, page_content='ة'),\n",
              " Document(metadata={}, page_content='3')]"
            ]
          },
          "metadata": {},
          "execution_count": 38
        }
      ]
    },
    {
      "cell_type": "code",
      "source": [
        "docs = text_splitter_2.create_documents([\"فقرة 1\\nفقرة 2\\nفقرة 3\\n\"])\n",
        "for doc in docs:\n",
        "    print(doc.page_content)"
      ],
      "metadata": {
        "colab": {
          "base_uri": "https://localhost:8080/"
        },
        "id": "xuNrFdnFTOEL",
        "outputId": "bec55ff9-93cb-4553-d69e-883b08eec265"
      },
      "execution_count": null,
      "outputs": [
        {
          "output_type": "stream",
          "name": "stdout",
          "text": [
            "فقرة 1\n",
            "فقرة 2\n",
            "فقرة 3\n"
          ]
        }
      ]
    },
    {
      "cell_type": "markdown",
      "source": [
        "# or"
      ],
      "metadata": {
        "id": "wYSntisyTrKo"
      }
    },
    {
      "cell_type": "code",
      "source": [
        "text_splitter_2.split_text(text)"
      ],
      "metadata": {
        "colab": {
          "base_uri": "https://localhost:8080/"
        },
        "id": "EHcem7PoTY2c",
        "outputId": "3bc8badd-8f8d-4189-d6f8-cb69886e0e02"
      },
      "execution_count": null,
      "outputs": [
        {
          "output_type": "execute_result",
          "data": {
            "text/plain": [
              "['فقرة 1', 'فقرة 2', 'فقرة 3']"
            ]
          },
          "metadata": {},
          "execution_count": 40
        }
      ]
    },
    {
      "cell_type": "markdown",
      "source": [
        "# ✅ 3. TokenTextSplitter"
      ],
      "metadata": {
        "id": "x316WxXxUV-Z"
      }
    },
    {
      "cell_type": "code",
      "source": [
        "from langchain.text_splitter import TokenTextSplitter"
      ],
      "metadata": {
        "id": "JR1ixad-T-HW"
      },
      "execution_count": null,
      "outputs": []
    },
    {
      "cell_type": "code",
      "source": [
        "text_splitter_3 = TokenTextSplitter(\n",
        "    chunk_size=20,\n",
        "    chunk_overlap=5,\n",
        "    length_function=len\n",
        ")"
      ],
      "metadata": {
        "id": "l1zC18uSUa3V"
      },
      "execution_count": null,
      "outputs": []
    },
    {
      "cell_type": "code",
      "source": [
        "text= \"هذا نص طويل نريد تقسيمه بطريقة تحفظ التوازن بين عدد الكلمات وعدد التوكنات\""
      ],
      "metadata": {
        "id": "HJgjnIkAUlIV"
      },
      "execution_count": null,
      "outputs": []
    },
    {
      "cell_type": "code",
      "source": [
        "text_splitter_3.split_text(text)"
      ],
      "metadata": {
        "colab": {
          "base_uri": "https://localhost:8080/"
        },
        "id": "HLU-OjkkUibw",
        "outputId": "dc2c635b-7fe0-471b-b194-93a9f046606a"
      },
      "execution_count": null,
      "outputs": [
        {
          "output_type": "execute_result",
          "data": {
            "text/plain": [
              "['هذا نص طويل نريد ت',\n",
              " 'ريد تقسيمه بطريقة',\n",
              " 'ريقة تحفظ التوازن �',\n",
              " 'وازن بين عدد الكلمات و',\n",
              " 'لمات وعدد التوكنات']"
            ]
          },
          "metadata": {},
          "execution_count": 58
        }
      ]
    },
    {
      "cell_type": "markdown",
      "source": [
        "# ✅ 4. NLTKTextSplitter"
      ],
      "metadata": {
        "id": "8THffzvHVXNX"
      }
    },
    {
      "cell_type": "code",
      "source": [
        "from langchain.text_splitter import NLTKTextSplitter\n",
        "import nltk\n",
        "nltk.download('punkt_tab')"
      ],
      "metadata": {
        "colab": {
          "base_uri": "https://localhost:8080/"
        },
        "id": "HEb11c2FUv-F",
        "outputId": "a9bac631-e3c8-4efa-8eba-a5e09fd3408a"
      },
      "execution_count": null,
      "outputs": [
        {
          "output_type": "stream",
          "name": "stderr",
          "text": [
            "[nltk_data] Downloading package punkt_tab to /root/nltk_data...\n",
            "[nltk_data]   Unzipping tokenizers/punkt_tab.zip.\n"
          ]
        },
        {
          "output_type": "execute_result",
          "data": {
            "text/plain": [
              "True"
            ]
          },
          "metadata": {},
          "execution_count": 64
        }
      ]
    },
    {
      "cell_type": "code",
      "source": [
        "splitter = NLTKTextSplitter(chunk_size=21, chunk_overlap=5, length_function=len,separator=\".\")"
      ],
      "metadata": {
        "id": "z26K_AspVdmw"
      },
      "execution_count": null,
      "outputs": []
    },
    {
      "cell_type": "code",
      "source": [
        "text = \"This is sentence one. This . is sentence two. This is sentence three.\""
      ],
      "metadata": {
        "id": "AhpD9WXgVi0U"
      },
      "execution_count": null,
      "outputs": []
    },
    {
      "cell_type": "code",
      "source": [
        "print(splitter.split_text(text))"
      ],
      "metadata": {
        "colab": {
          "base_uri": "https://localhost:8080/"
        },
        "id": "S9WZsLKLVqlb",
        "outputId": "88ecaf09-2a93-428d-898d-0bc5ac77a9c9"
      },
      "execution_count": null,
      "outputs": [
        {
          "output_type": "stream",
          "name": "stdout",
          "text": [
            "['This is sentence one.', 'This .', 'is sentence two.', 'This is sentence three.']\n"
          ]
        }
      ]
    },
    {
      "cell_type": "code",
      "source": [
        "docs = splitter.create_documents([\"This is sentence one. This is sentence two. This is sentence three.\"])\n",
        "for doc in docs:\n",
        "    print(doc.page_content)"
      ],
      "metadata": {
        "colab": {
          "base_uri": "https://localhost:8080/"
        },
        "id": "22uXdm4tV6pX",
        "outputId": "2cf9b192-394c-43a1-8690-019276fdf099"
      },
      "execution_count": null,
      "outputs": [
        {
          "output_type": "stream",
          "name": "stdout",
          "text": [
            "This is sentence one.\n",
            "This is sentence two.\n",
            "This is sentence three.\n"
          ]
        }
      ]
    },
    {
      "cell_type": "markdown",
      "source": [
        "# ✅ 5. SpacyTextSplitter"
      ],
      "metadata": {
        "id": "b7HmHYRcW_7o"
      }
    },
    {
      "cell_type": "code",
      "source": [
        "from langchain.text_splitter import SpacyTextSplitter"
      ],
      "metadata": {
        "id": "M-sZl3rQWIZp"
      },
      "execution_count": null,
      "outputs": []
    },
    {
      "cell_type": "code",
      "source": [
        "splitter = SpacyTextSplitter(separator=\".\",chunk_size=23, chunk_overlap=5, length_function=len)\n",
        "docs = splitter.create_documents([\"This. is sentence one. This is sentence two.\"])"
      ],
      "metadata": {
        "colab": {
          "base_uri": "https://localhost:8080/"
        },
        "id": "KbyTLGNGXFvX",
        "outputId": "0266759b-868e-4e8d-b9a2-b509135dd825"
      },
      "execution_count": null,
      "outputs": [
        {
          "output_type": "stream",
          "name": "stderr",
          "text": [
            "/usr/local/lib/python3.11/dist-packages/spacy/pipeline/lemmatizer.py:211: UserWarning: [W108] The rule-based lemmatizer did not find POS annotation for one or more tokens. Check that your pipeline includes components that assign token.pos, typically 'tagger'+'attribute_ruler' or 'morphologizer'.\n",
            "  warnings.warn(Warnings.W108)\n"
          ]
        }
      ]
    },
    {
      "cell_type": "code",
      "source": [
        "docs"
      ],
      "metadata": {
        "colab": {
          "base_uri": "https://localhost:8080/"
        },
        "id": "UY2JRlfPXiGE",
        "outputId": "076616af-05db-4107-d46f-7217e2b7ee7c"
      },
      "execution_count": null,
      "outputs": [
        {
          "output_type": "execute_result",
          "data": {
            "text/plain": [
              "[Document(metadata={}, page_content='This. is sentence one.'),\n",
              " Document(metadata={}, page_content='This is sentence two.')]"
            ]
          },
          "metadata": {},
          "execution_count": 122
        }
      ]
    },
    {
      "cell_type": "code",
      "source": [
        "for doc in docs:\n",
        "    print(doc.page_content)"
      ],
      "metadata": {
        "colab": {
          "base_uri": "https://localhost:8080/"
        },
        "id": "HHMxrsMXXJrY",
        "outputId": "6142fc0e-bee3-4e81-d742-cf53a70ee258"
      },
      "execution_count": null,
      "outputs": [
        {
          "output_type": "stream",
          "name": "stdout",
          "text": [
            "This. is sentence one.\n",
            "This is sentence two.\n"
          ]
        }
      ]
    },
    {
      "cell_type": "code",
      "source": [
        "splitter.split_text(\"This is sentence one. This is sentence two.\")"
      ],
      "metadata": {
        "colab": {
          "base_uri": "https://localhost:8080/"
        },
        "id": "jh9TfEMjXXA-",
        "outputId": "562b67f5-01d1-4875-a732-70207713cce7"
      },
      "execution_count": null,
      "outputs": [
        {
          "output_type": "stream",
          "name": "stderr",
          "text": [
            "/usr/local/lib/python3.11/dist-packages/spacy/pipeline/lemmatizer.py:211: UserWarning: [W108] The rule-based lemmatizer did not find POS annotation for one or more tokens. Check that your pipeline includes components that assign token.pos, typically 'tagger'+'attribute_ruler' or 'morphologizer'.\n",
            "  warnings.warn(Warnings.W108)\n"
          ]
        },
        {
          "output_type": "execute_result",
          "data": {
            "text/plain": [
              "['This is sentence one.', 'This is sentence two.']"
            ]
          },
          "metadata": {},
          "execution_count": 137
        }
      ]
    },
    {
      "cell_type": "markdown",
      "source": [
        "# ✅ 6. MarkdownHeaderTextSplitter"
      ],
      "metadata": {
        "id": "2vgXApfhZAC4"
      }
    },
    {
      "cell_type": "code",
      "source": [
        "from langchain.text_splitter import MarkdownHeaderTextSplitter"
      ],
      "metadata": {
        "id": "D2GosiF4ZDZr"
      },
      "execution_count": null,
      "outputs": []
    },
    {
      "cell_type": "code",
      "source": [
        "md_text = \"\"\"\n",
        "# الفصل الأول\n",
        "هذا هو محتوى الفصل الأول.\n",
        "\n",
        "## القسم 1.1\n",
        "محتوى القسم الفرعي.\n",
        "\n",
        "# الفصل الثاني\n",
        "محتوى الفصل الثاني.\n",
        "### hdf\n",
        "\"\"\""
      ],
      "metadata": {
        "id": "Mqd-auAwYR6z"
      },
      "execution_count": null,
      "outputs": []
    },
    {
      "cell_type": "code",
      "source": [
        "headers_to_split_on = [(\"#\", \"عنوان رئيسي\"), (\"##\", \"عنوان فرعي\")]"
      ],
      "metadata": {
        "id": "HyeQfmQpZWLS"
      },
      "execution_count": null,
      "outputs": []
    },
    {
      "cell_type": "code",
      "source": [
        "splitter = MarkdownHeaderTextSplitter(headers_to_split_on= headers_to_split_on)"
      ],
      "metadata": {
        "id": "wCsDPzUAZHeK"
      },
      "execution_count": null,
      "outputs": []
    },
    {
      "cell_type": "code",
      "source": [
        "docs = splitter.split_text(md_text)\n",
        "for doc in docs:\n",
        "    print(doc.page_content)"
      ],
      "metadata": {
        "colab": {
          "base_uri": "https://localhost:8080/"
        },
        "id": "QAdTa2buZcX2",
        "outputId": "de81d081-035c-432e-f32c-77d647e48402"
      },
      "execution_count": null,
      "outputs": [
        {
          "output_type": "stream",
          "name": "stdout",
          "text": [
            "هذا هو محتوى الفصل الأول.\n",
            "محتوى القسم الفرعي.\n",
            "محتوى الفصل الثاني.\n",
            "### hdf\n"
          ]
        }
      ]
    },
    {
      "cell_type": "code",
      "source": [
        "len(docs)"
      ],
      "metadata": {
        "colab": {
          "base_uri": "https://localhost:8080/"
        },
        "id": "8xvy2SMVaBG9",
        "outputId": "bf266b04-2cbb-40c8-9ff0-063c5de259ad"
      },
      "execution_count": null,
      "outputs": [
        {
          "output_type": "execute_result",
          "data": {
            "text/plain": [
              "3"
            ]
          },
          "metadata": {},
          "execution_count": 156
        }
      ]
    },
    {
      "cell_type": "code",
      "source": [
        "for i in range(len(docs)):\n",
        "  print(splitter.split_text(md_text)[i].page_content)"
      ],
      "metadata": {
        "colab": {
          "base_uri": "https://localhost:8080/"
        },
        "id": "Kvh8JsOcZi6q",
        "outputId": "739b631f-c6fd-445d-9917-7e9e9fcdbd3b"
      },
      "execution_count": null,
      "outputs": [
        {
          "output_type": "stream",
          "name": "stdout",
          "text": [
            "هذا هو محتوى الفصل الأول.\n",
            "محتوى القسم الفرعي.\n",
            "محتوى الفصل الثاني.\n",
            "### hdf\n"
          ]
        }
      ]
    },
    {
      "cell_type": "markdown",
      "source": [
        "# ✅ 7. HTMLHeaderTextSplitter"
      ],
      "metadata": {
        "id": "zubbCiMYaThE"
      }
    },
    {
      "cell_type": "code",
      "source": [
        "from langchain.text_splitter import HTMLHeaderTextSplitter"
      ],
      "metadata": {
        "id": "iTj9b_6WZ3s6"
      },
      "execution_count": null,
      "outputs": []
    },
    {
      "cell_type": "code",
      "source": [
        "html_text = \"\"\"\n",
        "<html>\n",
        "<body>\n",
        "<h1>المقدمة</h1>\n",
        "<p>هذا نص المقدمة.</p>\n",
        "<h2>الجزء الأول</h2>\n",
        "<p>تفاصيل الجزء الأول.</p>\n",
        "</body>\n",
        "</html>\n",
        "\"\"\""
      ],
      "metadata": {
        "id": "XkNRf1aSadN9"
      },
      "execution_count": null,
      "outputs": []
    },
    {
      "cell_type": "code",
      "source": [
        "heder = [(\"h1\", \"عنوان رئيسي\"), (\"h2\", \"عنوان فرعي\")]"
      ],
      "metadata": {
        "id": "svmNa238aqn9"
      },
      "execution_count": null,
      "outputs": []
    },
    {
      "cell_type": "code",
      "source": [
        "spliter = HTMLHeaderTextSplitter(headers_to_split_on= heder)"
      ],
      "metadata": {
        "id": "vG-HnbduaiCQ"
      },
      "execution_count": null,
      "outputs": []
    },
    {
      "cell_type": "code",
      "source": [
        "len(html_text)"
      ],
      "metadata": {
        "colab": {
          "base_uri": "https://localhost:8080/"
        },
        "id": "ykxC89Mba8iO",
        "outputId": "1ebaa586-37ef-4fa1-bb81-454cd68b5142"
      },
      "execution_count": null,
      "outputs": [
        {
          "output_type": "execute_result",
          "data": {
            "text/plain": [
              "119"
            ]
          },
          "metadata": {},
          "execution_count": 170
        }
      ]
    },
    {
      "cell_type": "code",
      "source": [
        "spliter.split_text(html_text)"
      ],
      "metadata": {
        "colab": {
          "base_uri": "https://localhost:8080/"
        },
        "id": "0XEzb5x_ah_E",
        "outputId": "8b54259c-b3ec-4364-e43e-4e7c3c609d40"
      },
      "execution_count": null,
      "outputs": [
        {
          "output_type": "execute_result",
          "data": {
            "text/plain": [
              "[Document(metadata={'عنوان رئيسي': 'المقدمة'}, page_content='المقدمة'),\n",
              " Document(metadata={'عنوان رئيسي': 'المقدمة'}, page_content='هذا نص المقدمة.'),\n",
              " Document(metadata={'عنوان رئيسي': 'المقدمة', 'عنوان فرعي': 'الجزء الأول'}, page_content='الجزء الأول'),\n",
              " Document(metadata={'عنوان رئيسي': 'المقدمة', 'عنوان فرعي': 'الجزء الأول'}, page_content='تفاصيل الجزء الأول.')]"
            ]
          },
          "metadata": {},
          "execution_count": 169
        }
      ]
    },
    {
      "cell_type": "markdown",
      "source": [
        "# ✅ 8. SentenceTransformersTokenTextSplitter"
      ],
      "metadata": {
        "id": "pdtroyvxbKHe"
      }
    },
    {
      "cell_type": "code",
      "source": [],
      "metadata": {
        "id": "5sCXbGSFah8B"
      },
      "execution_count": null,
      "outputs": []
    }
  ]
}